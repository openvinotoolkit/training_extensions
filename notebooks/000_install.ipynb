{
 "cells": [
  {
   "cell_type": "code",
   "execution_count": null,
   "metadata": {},
   "outputs": [],
   "source": [
    "# Add autoreload magic command to reload modules before executing user code.\n",
    "%load_ext autoreload\n",
    "%autoreload 2"
   ]
  },
  {
   "cell_type": "markdown",
   "metadata": {},
   "source": [
    "# Installing OpenVINO Training Extensions (OTX)\n",
    "\n",
    "## Pre-requisites\n",
    "Before installing OpenVINO Training Extensions (OTX), ensure that you have the following pre-requisites installed to be able to run jupyter notebooks:\n",
    "- Python 3.10+\n",
    "- `requirements.txt` file which contains the required packages to be installed. You can find the `requirements.txt` file in the `notebooks` directory of the repository.\n",
    "\n",
    "To install the required packages, run the following command:"
   ]
  },
  {
   "cell_type": "code",
   "execution_count": null,
   "metadata": {},
   "outputs": [],
   "source": [
    "%pip install -r requirements.txt"
   ]
  },
  {
   "cell_type": "markdown",
   "metadata": {},
   "source": [
    "Now that we installed the pre-requisites, we could start playing with the jupyter notebooks.\n",
    "\n",
    "Installation can be done in two ways: (i) install via PyPI, or (ii) installing from source, both of which are shown below:\n",
    "\n",
    "## Install via PyPI\n"
   ]
  },
  {
   "cell_type": "code",
   "execution_count": null,
   "metadata": {},
   "outputs": [],
   "source": [
    "# Option - I: Uncomment the next line if you want to install via pip.\n",
    "# NOT RECOMMENDED FOR THIS TUTORIAL\n",
    "# %pip install otx\n",
    "# %otx install -v"
   ]
  },
  {
   "cell_type": "markdown",
   "metadata": {},
   "source": [
    "> NOTE:\n",
    ">\n",
    "> For this tutorial, we recommended to install otx from source.\n"
   ]
  },
  {
   "cell_type": "markdown",
   "metadata": {},
   "source": [
    "## II. Install from Source\n",
    "The second method to install OTX is via source code. This method is useful if you want to modify the source code or if you want to install a specific version of OTX. The following commands will clone the OTX repository and install it in your Python environment."
   ]
  },
  {
   "cell_type": "markdown",
   "metadata": {},
   "source": [
    "Now let's verify the working directory. This is to access the datasets and configs when the notebook is run from different platforms such as local or Google Colab."
   ]
  },
  {
   "cell_type": "code",
   "execution_count": 9,
   "metadata": {},
   "outputs": [],
   "source": [
    "import os\n",
    "from pathlib import Path\n",
    "\n",
    "from git.repo import Repo\n",
    "\n",
    "current_directory = Path.cwd()\n",
    "if current_directory.name == \"notebooks\":\n",
    "    # On the assumption that, the notebook is located in\n",
    "    #   ~/training_extensions/notebooks/\n",
    "    root_directory = current_directory.parent\n",
    "elif current_directory.name == \"training_extensions\":\n",
    "    # This means that the notebook is run from the main anomalib directory.\n",
    "    root_directory = current_directory\n",
    "else:\n",
    "    # Otherwise, we'll need to clone the anomalib repo to the `current_directory`\n",
    "    repo = Repo.clone_from(\n",
    "        url=\"https://github.com/openvinotoolkit/training_extensions.git\",\n",
    "        to_path=current_directory,\n",
    "    )\n",
    "    root_directory = current_directory / \"training_extensions\"\n",
    "\n",
    "    # Check out the tutorial/cvpr24 branch\n",
    "    repo.git.checkout('tutorials/cvpr24')\n",
    "\n",
    "os.chdir(root_directory)\n",
    "\n",
    "# If you need to check out the branch even when the repository is already cloned\n",
    "if root_directory.exists() and (root_directory / \".git\").exists():\n",
    "    repo = Repo(root_directory)\n",
    "    repo.git.checkout('tutorials/cvpr24')"
   ]
  },
  {
   "cell_type": "markdown",
   "metadata": {},
   "source": [
    "Now that we have clones the repo and the working directory is set, let's install the OTX package."
   ]
  },
  {
   "cell_type": "code",
   "execution_count": null,
   "metadata": {},
   "outputs": [],
   "source": [
    "# Set up a virtual environment and activate it\n",
    "# !python -m venv training_extensions/.otx && source training_extensions/.otx/bin/activate\n",
    "\n",
    "# Install the necessary dependencies and get help.\n",
    "# ! pip install -e ."
   ]
  },
  {
   "cell_type": "markdown",
   "metadata": {},
   "source": [
    "We have now installed the OTX package. Let's check if the basic OTX CLI works fine."
   ]
  },
  {
   "cell_type": "code",
   "execution_count": 13,
   "metadata": {},
   "outputs": [
    {
     "name": "stdout",
     "output_type": "stream",
     "text": [
      "\u001b[2m╭─\u001b[0m\u001b[2m Arguments \u001b[0m\u001b[2m─────────────────────────────────────────────────────────────────\u001b[0m\u001b[2m─╮\u001b[0m\n",
      "\u001b[2m│\u001b[0m Usage: otx [-h] [-v] {install} ...                                           \u001b[2m│\u001b[0m\n",
      "\u001b[2m│\u001b[0m                                                                              \u001b[2m│\u001b[0m\n",
      "\u001b[2m│\u001b[0m                                                                              \u001b[2m│\u001b[0m\n",
      "\u001b[2m│\u001b[0m OpenVINO Training-Extension command line tool                                \u001b[2m│\u001b[0m\n",
      "\u001b[2m│\u001b[0m                                                                              \u001b[2m│\u001b[0m\n",
      "\u001b[2m│\u001b[0m                                                                              \u001b[2m│\u001b[0m\n",
      "\u001b[2m│\u001b[0m Options:                                                                     \u001b[2m│\u001b[0m\n",
      "\u001b[2m│\u001b[0m   -h, --help            Show this help message and exit.                     \u001b[2m│\u001b[0m\n",
      "\u001b[2m│\u001b[0m   -v, --version         Display OTX version number.                          \u001b[2m│\u001b[0m\n",
      "\u001b[2m│\u001b[0m                                                                              \u001b[2m│\u001b[0m\n",
      "\u001b[2m│\u001b[0m Subcommands:                                                                 \u001b[2m│\u001b[0m\n",
      "\u001b[2m│\u001b[0m   For more details of each subcommand, add it as an argument followed by     \u001b[2m│\u001b[0m\n",
      "\u001b[2m│\u001b[0m   --help.                                                                    \u001b[2m│\u001b[0m\n",
      "\u001b[2m│\u001b[0m                                                                              \u001b[2m│\u001b[0m\n",
      "\u001b[2m│\u001b[0m                                                                              \u001b[2m│\u001b[0m\n",
      "\u001b[2m│\u001b[0m   Available subcommands:                                                     \u001b[2m│\u001b[0m\n",
      "\u001b[2m│\u001b[0m     install             Install OTX requirements.                            \u001b[2m│\u001b[0m\n",
      "\u001b[2m│\u001b[0m                                                                              \u001b[2m│\u001b[0m\n",
      "\u001b[2m╰──────────────────────────────────────────────────────────────────────────────╯\u001b[0m\n"
     ]
    }
   ],
   "source": [
    "!otx -h"
   ]
  },
  {
   "cell_type": "markdown",
   "metadata": {},
   "source": [
    "As we can see above, the OTX CLI is working fine, and shows options and available subcommands. For now we only have `install` subcommand available. This is mainly because the basic installation has not installed the required dependencies such as Torch and Lightning. We could see how to install them via the following command:"
   ]
  },
  {
   "cell_type": "code",
   "execution_count": 14,
   "metadata": {},
   "outputs": [
    {
     "name": "stdout",
     "output_type": "stream",
     "text": [
      "usage: otx [options] install [-h] [--option OPTION] [-v]\n",
      "                             [--do-not-install-torch] [--user]\n",
      "\n",
      "options:\n",
      "  -h, --help            Show this help message and exit.\n",
      "  --option OPTION       Install the mmlab library or optional-dependencies.\n",
      "                        (type: str, default: full)\n",
      "  -v, --verbose         Set Logger level to INFO (default: False)\n",
      "  --do-not-install-torch\n",
      "                        Do not install PyTorch. Choose this option if you\n",
      "                        already installed PyTorch. (default: False)\n",
      "  --user                Install packages in the user site directory, e.g.,\n",
      "                        `pip install --user ...` (default: False)\n"
     ]
    }
   ],
   "source": [
    "!otx install -h"
   ]
  },
  {
   "cell_type": "markdown",
   "metadata": {},
   "source": [
    "The help flag above displays what is possible with the `otx install` subcommand. Let's install the required dependencies with verbose mode to see what is happening behind the scenes."
   ]
  },
  {
   "cell_type": "code",
   "execution_count": null,
   "metadata": {},
   "outputs": [],
   "source": [
    "!otx install -v"
   ]
  },
  {
   "cell_type": "markdown",
   "metadata": {},
   "source": [
    "`otx install` subcommand installs the required dependencies such as PyTorch, PyTorch Lightning, and other dependencies required for OTX to work. This command will take some time to install the dependencies. Once the installation is complete, we can verify the installation by running the `otx -h` command again to see the available subcommands."
   ]
  },
  {
   "cell_type": "code",
   "execution_count": 18,
   "metadata": {},
   "outputs": [
    {
     "name": "stdout",
     "output_type": "stream",
     "text": [
      "\u001b[2m╭─\u001b[0m\u001b[2m Arguments \u001b[0m\u001b[2m─────────────────────────────────────────────────────────────────\u001b[0m\u001b[2m─╮\u001b[0m\n",
      "\u001b[2m│\u001b[0m Usage: otx [-h] [-v]                                                         \u001b[2m│\u001b[0m\n",
      "\u001b[2m│\u001b[0m            {install,find,train,test,predict,export,optimize,explain} ...     \u001b[2m│\u001b[0m\n",
      "\u001b[2m│\u001b[0m                                                                              \u001b[2m│\u001b[0m\n",
      "\u001b[2m│\u001b[0m                                                                              \u001b[2m│\u001b[0m\n",
      "\u001b[2m│\u001b[0m OpenVINO Training-Extension command line tool                                \u001b[2m│\u001b[0m\n",
      "\u001b[2m│\u001b[0m                                                                              \u001b[2m│\u001b[0m\n",
      "\u001b[2m│\u001b[0m                                                                              \u001b[2m│\u001b[0m\n",
      "\u001b[2m│\u001b[0m Options:                                                                     \u001b[2m│\u001b[0m\n",
      "\u001b[2m│\u001b[0m   -h, --help            Show this help message and exit.                     \u001b[2m│\u001b[0m\n",
      "\u001b[2m│\u001b[0m   -v, --version         Display OTX version number.                          \u001b[2m│\u001b[0m\n",
      "\u001b[2m│\u001b[0m                                                                              \u001b[2m│\u001b[0m\n",
      "\u001b[2m│\u001b[0m Subcommands:                                                                 \u001b[2m│\u001b[0m\n",
      "\u001b[2m│\u001b[0m   For more details of each subcommand, add it as an argument followed by     \u001b[2m│\u001b[0m\n",
      "\u001b[2m│\u001b[0m   --help.                                                                    \u001b[2m│\u001b[0m\n",
      "\u001b[2m│\u001b[0m                                                                              \u001b[2m│\u001b[0m\n",
      "\u001b[2m│\u001b[0m                                                                              \u001b[2m│\u001b[0m\n",
      "\u001b[2m│\u001b[0m   Available subcommands:                                                     \u001b[2m│\u001b[0m\n",
      "\u001b[2m│\u001b[0m     install             Install OTX requirements.                            \u001b[2m│\u001b[0m\n",
      "\u001b[2m│\u001b[0m     find                This shows the model provided by OTX.                \u001b[2m│\u001b[0m\n",
      "\u001b[2m│\u001b[0m     train               Trains the model using the provided LightningModule  \u001b[2m│\u001b[0m\n",
      "\u001b[2m│\u001b[0m                         and OTXDataModule.                                   \u001b[2m│\u001b[0m\n",
      "\u001b[2m│\u001b[0m     test                Run the testing phase of the engine.                 \u001b[2m│\u001b[0m\n",
      "\u001b[2m│\u001b[0m     predict             Run predictions using the specified model and data.  \u001b[2m│\u001b[0m\n",
      "\u001b[2m│\u001b[0m     export              Export the trained model to OpenVINO Intermediate    \u001b[2m│\u001b[0m\n",
      "\u001b[2m│\u001b[0m                         Representation (IR) or ONNX formats.                 \u001b[2m│\u001b[0m\n",
      "\u001b[2m│\u001b[0m     optimize            Applies NNCF.PTQ to the underlying models (now works \u001b[2m│\u001b[0m\n",
      "\u001b[2m│\u001b[0m                         only for OV models).                                 \u001b[2m│\u001b[0m\n",
      "\u001b[2m│\u001b[0m     explain             Run XAI using the specified model and data (test     \u001b[2m│\u001b[0m\n",
      "\u001b[2m│\u001b[0m                         subset).                                             \u001b[2m│\u001b[0m\n",
      "\u001b[2m│\u001b[0m                                                                              \u001b[2m│\u001b[0m\n",
      "\u001b[2m╰──────────────────────────────────────────────────────────────────────────────╯\u001b[0m\n"
     ]
    }
   ],
   "source": [
    "!otx -h"
   ]
  },
  {
   "cell_type": "markdown",
   "metadata": {},
   "source": [
    "> NOTE:\n",
    "> When we first installed the OTX package, we only had the `install` subcommand available. After installing the required dependencies, we now have more subcommands available such as `train`, `test`, `predict` and `export`. These subcommands are used to train, test, predict and export the trained models respectively."
   ]
  },
  {
   "cell_type": "markdown",
   "metadata": {},
   "source": [
    "# Install OpenVINO™ Training Extensions with XPU devices Support\n",
    "\n",
    "It is also possible to install OTX with XPU devices support. This is useful if you have an XPU device such as Intel® Data Center GPU and Intel® Arc™ A-Series GPUs . The following command will install OTX with XPU devices support."
   ]
  },
  {
   "cell_type": "code",
   "execution_count": 19,
   "metadata": {},
   "outputs": [],
   "source": [
    "# !pip install '.[xpu]' --extra-index-url https://pytorch-extension.intel.com/release-whl/stable/xpu/us/"
   ]
  },
  {
   "cell_type": "markdown",
   "metadata": {},
   "source": [
    "This will install [Intel® Extension for PyTorch](https://intel.github.io/intel-extension-for-pytorch/index.html#installation?platform=gpu&version=v2.1.10%2bxpu&os=linux%2fwsl2&package=pip). After installing the torch, we will need to activate OneAPI environment and export required IPEX system variables."
   ]
  },
  {
   "cell_type": "code",
   "execution_count": 20,
   "metadata": {},
   "outputs": [],
   "source": [
    "# !source /path/to/intel/oneapi/setvars.sh\n",
    "# !export LD_PRELOAD=/usr/lib/x86_64-linux-gnu/libstdc++.so.6.0.30\n",
    "# !export IPEX_FP32_MATH_MODE=TF32"
   ]
  },
  {
   "cell_type": "markdown",
   "metadata": {},
   "source": [
    "Once the package is installed in the virtual environment, you can use full OpenVINO™ Training Extensions command line functionality."
   ]
  },
  {
   "cell_type": "code",
   "execution_count": 23,
   "metadata": {},
   "outputs": [
    {
     "name": "stdout",
     "output_type": "stream",
     "text": [
      "\u001b[2m╭─\u001b[0m\u001b[2m Arguments \u001b[0m\u001b[2m─────────────────────────────────────────────────────────────────\u001b[0m\u001b[2m─╮\u001b[0m\n",
      "\u001b[2m│\u001b[0m Usage: otx [-h] [-v]                                                         \u001b[2m│\u001b[0m\n",
      "\u001b[2m│\u001b[0m            {install,find,train,test,predict,export,optimize,explain} ...     \u001b[2m│\u001b[0m\n",
      "\u001b[2m│\u001b[0m                                                                              \u001b[2m│\u001b[0m\n",
      "\u001b[2m│\u001b[0m                                                                              \u001b[2m│\u001b[0m\n",
      "\u001b[2m│\u001b[0m OpenVINO Training-Extension command line tool                                \u001b[2m│\u001b[0m\n",
      "\u001b[2m│\u001b[0m                                                                              \u001b[2m│\u001b[0m\n",
      "\u001b[2m│\u001b[0m                                                                              \u001b[2m│\u001b[0m\n",
      "\u001b[2m│\u001b[0m Options:                                                                     \u001b[2m│\u001b[0m\n",
      "\u001b[2m│\u001b[0m   -h, --help            Show this help message and exit.                     \u001b[2m│\u001b[0m\n",
      "\u001b[2m│\u001b[0m   -v, --version         Display OTX version number.                          \u001b[2m│\u001b[0m\n",
      "\u001b[2m│\u001b[0m                                                                              \u001b[2m│\u001b[0m\n",
      "\u001b[2m│\u001b[0m Subcommands:                                                                 \u001b[2m│\u001b[0m\n",
      "\u001b[2m│\u001b[0m   For more details of each subcommand, add it as an argument followed by     \u001b[2m│\u001b[0m\n",
      "\u001b[2m│\u001b[0m   --help.                                                                    \u001b[2m│\u001b[0m\n",
      "\u001b[2m│\u001b[0m                                                                              \u001b[2m│\u001b[0m\n",
      "\u001b[2m│\u001b[0m                                                                              \u001b[2m│\u001b[0m\n",
      "\u001b[2m│\u001b[0m   Available subcommands:                                                     \u001b[2m│\u001b[0m\n",
      "\u001b[2m│\u001b[0m     install             Install OTX requirements.                            \u001b[2m│\u001b[0m\n",
      "\u001b[2m│\u001b[0m     find                This shows the model provided by OTX.                \u001b[2m│\u001b[0m\n",
      "\u001b[2m│\u001b[0m     train               Trains the model using the provided LightningModule  \u001b[2m│\u001b[0m\n",
      "\u001b[2m│\u001b[0m                         and OTXDataModule.                                   \u001b[2m│\u001b[0m\n",
      "\u001b[2m│\u001b[0m     test                Run the testing phase of the engine.                 \u001b[2m│\u001b[0m\n",
      "\u001b[2m│\u001b[0m     predict             Run predictions using the specified model and data.  \u001b[2m│\u001b[0m\n",
      "\u001b[2m│\u001b[0m     export              Export the trained model to OpenVINO Intermediate    \u001b[2m│\u001b[0m\n",
      "\u001b[2m│\u001b[0m                         Representation (IR) or ONNX formats.                 \u001b[2m│\u001b[0m\n",
      "\u001b[2m│\u001b[0m     optimize            Applies NNCF.PTQ to the underlying models (now works \u001b[2m│\u001b[0m\n",
      "\u001b[2m│\u001b[0m                         only for OV models).                                 \u001b[2m│\u001b[0m\n",
      "\u001b[2m│\u001b[0m     explain             Run XAI using the specified model and data (test     \u001b[2m│\u001b[0m\n",
      "\u001b[2m│\u001b[0m                         subset).                                             \u001b[2m│\u001b[0m\n",
      "\u001b[2m│\u001b[0m                                                                              \u001b[2m│\u001b[0m\n",
      "\u001b[2m╰──────────────────────────────────────────────────────────────────────────────╯\u001b[0m\n"
     ]
    }
   ],
   "source": [
    "!otx --help"
   ]
  },
  {
   "cell_type": "markdown",
   "metadata": {},
   "source": [
    "This wraps up the installation of OpenVINO™ Training Extensions with XPU devices support. You can now use the OTX CLI to train, test, predict and export models with XPU devices support."
   ]
  }
 ],
 "metadata": {
  "kernelspec": {
   "display_name": "otx",
   "language": "python",
   "name": "python3"
  },
  "language_info": {
   "codemirror_mode": {
    "name": "ipython",
    "version": 3
   },
   "file_extension": ".py",
   "mimetype": "text/x-python",
   "name": "python",
   "nbconvert_exporter": "python",
   "pygments_lexer": "ipython3",
   "version": "3.11.7"
  }
 },
 "nbformat": 4,
 "nbformat_minor": 2
}
