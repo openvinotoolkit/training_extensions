{
 "cells": [
  {
   "cell_type": "markdown",
   "metadata": {},
   "source": [
    "# Instance Segmentation Task\n",
    "\n",
    "## Installation and Setup\n",
    "For installation and setting up the repo, please refer to the [Installation Notebook](000_install.ipynb). "
   ]
  },
  {
   "cell_type": "code",
   "execution_count": 1,
   "metadata": {},
   "outputs": [
    {
     "data": {
      "text/plain": [
       "'/home/harimkan/workspace/repo/otx-regression'"
      ]
     },
     "execution_count": 1,
     "metadata": {},
     "output_type": "execute_result"
    }
   ],
   "source": [
    "import os\n",
    "from utils.io import setup_repo\n",
    "\n",
    "# Setup repo and checkout to the branch with the tutorials\n",
    "setup_repo(\n",
    "    git_url=\"https://github.com/openvinotoolkit/training_extensions.git\",\n",
    "    branch='tutorials/cvpr24',\n",
    ")\n",
    "os.getcwd()"
   ]
  },
  {
   "cell_type": "markdown",
   "metadata": {},
   "source": [
    "The above code will setup the repo, change the directory to the root directory of the repo, so we have access to all the files and folders in the repo.\n",
    "\n",
    "## Prepare the Data\n",
    "\n",
    "The first step is to prepare the dataset. If you haven't downloaded the dataset yet, you could download it via the following:"
   ]
  },
  {
   "cell_type": "code",
   "execution_count": 2,
   "metadata": {},
   "outputs": [
    {
     "name": "stdout",
     "output_type": "stream",
     "text": [
      "The dataset is already available in data/fruits_and_vegetables\n"
     ]
    }
   ],
   "source": [
    "from notebooks.utils.download import download_dataset\n",
    "\n",
    "download_dataset(\n",
    "    url=(\n",
    "        \"https://github.com/openvinotoolkit/training_extensions/releases/download\"\n",
    "        \"/fruits_and_vegetables_dataset/fruits_and_vegetables.zip\"\n",
    "    ),\n",
    "    extract_to=\"data/fruits_and_vegetables\",\n",
    ")"
   ]
  },
  {
   "cell_type": "code",
   "execution_count": 3,
   "metadata": {},
   "outputs": [],
   "source": [
    "data_root = \"./data/fruits_and_vegetables\"\n",
    "work_dir = \"./otx-workspace-ins_seg\""
   ]
  },
  {
   "cell_type": "markdown",
   "metadata": {},
   "source": [
    "## Training with OTX Recipes\n",
    "The first step in this task is to train a model using OTX recipes, which are available in the `recipes` folder. The recipes are in the form of `.yaml` files, which can be used to train a model using the `otx` library.\n",
    "\n",
    "These recipes are pre-defined by the OTX, which are validated and tested to work with many different use-cases.\n",
    "\n",
    "Let's see the available recipes for `INSTANCE_SEGMENTATION` task."
   ]
  },
  {
   "cell_type": "code",
   "execution_count": 4,
   "metadata": {},
   "outputs": [
    {
     "name": "stderr",
     "output_type": "stream",
     "text": [
      "/home/harimkan/workspace/repo/otx-regression/venv/lib/python3.10/site-packages/tqdm/auto.py:21: TqdmWarning: IProgress not found. Please update jupyter and ipywidgets. See https://ipywidgets.readthedocs.io/en/stable/user_install.html\n",
      "  from .autonotebook import tqdm as notebook_tqdm\n"
     ]
    },
    {
     "data": {
      "text/html": [
       "<pre style=\"white-space:pre;overflow-x:auto;line-height:normal;font-family:Menlo,'DejaVu Sans Mono',consolas,'Courier New',monospace\"><span style=\"font-style: italic\">                                                    OTX Recipes                                                    </span>\n",
       "┏━━━━━━━━━━━━━━━━━━━━━━━┳━━━━━━━━━━━━━━━━━━━━━━━━━━━━━━━┳━━━━━━━━━━━━━━━━━━━━━━━━━━━━━━━━━━━━━━━━━━━━━━━━━━━━━━━━━┓\n",
       "┃<span style=\"color: #800080; text-decoration-color: #800080; font-weight: bold\"> Task                  </span>┃<span style=\"color: #800080; text-decoration-color: #800080; font-weight: bold\"> Model Name                    </span>┃<span style=\"color: #800080; text-decoration-color: #800080; font-weight: bold\"> Recipe Path                                             </span>┃\n",
       "┡━━━━━━━━━━━━━━━━━━━━━━━╇━━━━━━━━━━━━━━━━━━━━━━━━━━━━━━━╇━━━━━━━━━━━━━━━━━━━━━━━━━━━━━━━━━━━━━━━━━━━━━━━━━━━━━━━━━┩\n",
       "│ INSTANCE_SEGMENTATION │ openvino_model                │ /home/harimkan/workspace/repo/otx-regression/src/otx/r… │\n",
       "│                       │                               │ pe/instance_segmentation/openvino_model.yaml            │\n",
       "│ INSTANCE_SEGMENTATION │ maskrcnn_r50                  │ /home/harimkan/workspace/repo/otx-regression/src/otx/r… │\n",
       "│                       │                               │ pe/instance_segmentation/maskrcnn_r50.yaml              │\n",
       "│ INSTANCE_SEGMENTATION │ maskrcnn_r50_tile             │ /home/harimkan/workspace/repo/otx-regression/src/otx/r… │\n",
       "│                       │                               │ pe/instance_segmentation/maskrcnn_r50_tile.yaml         │\n",
       "│ INSTANCE_SEGMENTATION │ maskrcnn_swint                │ /home/harimkan/workspace/repo/otx-regression/src/otx/r… │\n",
       "│                       │                               │ pe/instance_segmentation/maskrcnn_swint.yaml            │\n",
       "│ INSTANCE_SEGMENTATION │ maskrcnn_efficientnetb2b      │ /home/harimkan/workspace/repo/otx-regression/src/otx/r… │\n",
       "│                       │                               │ pe/instance_segmentation/maskrcnn_efficientnetb2b.yaml  │\n",
       "│ INSTANCE_SEGMENTATION │ rtmdet_inst_tiny              │ /home/harimkan/workspace/repo/otx-regression/src/otx/r… │\n",
       "│                       │                               │ pe/instance_segmentation/rtmdet_inst_tiny.yaml          │\n",
       "│ INSTANCE_SEGMENTATION │ maskrcnn_efficientnetb2b_tile │ /home/harimkan/workspace/repo/otx-regression/src/otx/r… │\n",
       "│                       │                               │ pe/instance_segmentation/maskrcnn_efficientnetb2b_tile… │\n",
       "│                       │                               │ ml                                                      │\n",
       "│ INSTANCE_SEGMENTATION │ rtmdet_inst_tiny_tile         │ /home/harimkan/workspace/repo/otx-regression/src/otx/r… │\n",
       "│                       │                               │ pe/instance_segmentation/rtmdet_inst_tiny_tile.yaml     │\n",
       "│ INSTANCE_SEGMENTATION │ maskrcnn_swint_tile           │ /home/harimkan/workspace/repo/otx-regression/src/otx/r… │\n",
       "│                       │                               │ pe/instance_segmentation/maskrcnn_swint_tile.yaml       │\n",
       "└───────────────────────┴───────────────────────────────┴─────────────────────────────────────────────────────────┘\n",
       "</pre>\n"
      ],
      "text/plain": [
       "\u001b[3m                                                    OTX Recipes                                                    \u001b[0m\n",
       "┏━━━━━━━━━━━━━━━━━━━━━━━┳━━━━━━━━━━━━━━━━━━━━━━━━━━━━━━━┳━━━━━━━━━━━━━━━━━━━━━━━━━━━━━━━━━━━━━━━━━━━━━━━━━━━━━━━━━┓\n",
       "┃\u001b[1;35m \u001b[0m\u001b[1;35mTask                 \u001b[0m\u001b[1;35m \u001b[0m┃\u001b[1;35m \u001b[0m\u001b[1;35mModel Name                   \u001b[0m\u001b[1;35m \u001b[0m┃\u001b[1;35m \u001b[0m\u001b[1;35mRecipe Path                                            \u001b[0m\u001b[1;35m \u001b[0m┃\n",
       "┡━━━━━━━━━━━━━━━━━━━━━━━╇━━━━━━━━━━━━━━━━━━━━━━━━━━━━━━━╇━━━━━━━━━━━━━━━━━━━━━━━━━━━━━━━━━━━━━━━━━━━━━━━━━━━━━━━━━┩\n",
       "│ INSTANCE_SEGMENTATION │ openvino_model                │ /home/harimkan/workspace/repo/otx-regression/src/otx/r… │\n",
       "│                       │                               │ pe/instance_segmentation/openvino_model.yaml            │\n",
       "│ INSTANCE_SEGMENTATION │ maskrcnn_r50                  │ /home/harimkan/workspace/repo/otx-regression/src/otx/r… │\n",
       "│                       │                               │ pe/instance_segmentation/maskrcnn_r50.yaml              │\n",
       "│ INSTANCE_SEGMENTATION │ maskrcnn_r50_tile             │ /home/harimkan/workspace/repo/otx-regression/src/otx/r… │\n",
       "│                       │                               │ pe/instance_segmentation/maskrcnn_r50_tile.yaml         │\n",
       "│ INSTANCE_SEGMENTATION │ maskrcnn_swint                │ /home/harimkan/workspace/repo/otx-regression/src/otx/r… │\n",
       "│                       │                               │ pe/instance_segmentation/maskrcnn_swint.yaml            │\n",
       "│ INSTANCE_SEGMENTATION │ maskrcnn_efficientnetb2b      │ /home/harimkan/workspace/repo/otx-regression/src/otx/r… │\n",
       "│                       │                               │ pe/instance_segmentation/maskrcnn_efficientnetb2b.yaml  │\n",
       "│ INSTANCE_SEGMENTATION │ rtmdet_inst_tiny              │ /home/harimkan/workspace/repo/otx-regression/src/otx/r… │\n",
       "│                       │                               │ pe/instance_segmentation/rtmdet_inst_tiny.yaml          │\n",
       "│ INSTANCE_SEGMENTATION │ maskrcnn_efficientnetb2b_tile │ /home/harimkan/workspace/repo/otx-regression/src/otx/r… │\n",
       "│                       │                               │ pe/instance_segmentation/maskrcnn_efficientnetb2b_tile… │\n",
       "│                       │                               │ ml                                                      │\n",
       "│ INSTANCE_SEGMENTATION │ rtmdet_inst_tiny_tile         │ /home/harimkan/workspace/repo/otx-regression/src/otx/r… │\n",
       "│                       │                               │ pe/instance_segmentation/rtmdet_inst_tiny_tile.yaml     │\n",
       "│ INSTANCE_SEGMENTATION │ maskrcnn_swint_tile           │ /home/harimkan/workspace/repo/otx-regression/src/otx/r… │\n",
       "│                       │                               │ pe/instance_segmentation/maskrcnn_swint_tile.yaml       │\n",
       "└───────────────────────┴───────────────────────────────┴─────────────────────────────────────────────────────────┘\n"
      ]
     },
     "metadata": {},
     "output_type": "display_data"
    },
    {
     "data": {
      "text/plain": [
       "['openvino_model',\n",
       " 'maskrcnn_swint',\n",
       " 'maskrcnn_efficientnetb2b',\n",
       " 'maskrcnn_efficientnetb2b_tile',\n",
       " 'maskrcnn_r50_tile',\n",
       " 'rtmdet_inst_tiny_tile',\n",
       " 'maskrcnn_r50',\n",
       " 'rtmdet_inst_tiny',\n",
       " 'maskrcnn_swint_tile']"
      ]
     },
     "execution_count": 4,
     "metadata": {},
     "output_type": "execute_result"
    }
   ],
   "source": [
    "from otx.engine.utils.api import list_models\n",
    "\n",
    "list_models(task=\"INSTANCE_SEGMENTATION\", print_table=True)"
   ]
  },
  {
   "cell_type": "markdown",
   "metadata": {},
   "source": [
    "As we can see from the output of the above cell, there are 9 recipes available for the `INSTANCE_SEGMENTATION` task. We can use any of these recipes to train a model. In this example, we will use the `maskrcnn_efficientnetb2b.yaml` recipe to train a model."
   ]
  },
  {
   "cell_type": "code",
   "execution_count": 5,
   "metadata": {},
   "outputs": [
    {
     "data": {
      "text/html": [
       "<pre style=\"white-space:pre;overflow-x:auto;line-height:normal;font-family:Menlo,'DejaVu Sans Mono',consolas,'Courier New',monospace\"></pre>\n"
      ],
      "text/plain": []
     },
     "metadata": {},
     "output_type": "display_data"
    },
    {
     "name": "stderr",
     "output_type": "stream",
     "text": [
      "/home/harimkan/workspace/repo/otx-regression/src/otx/core/data/module.py:62: UserWarning: There are empty annotation items in train set, Of these, only 0.0% are used.\n",
      "  dataset = pre_filtering(dataset, self.config.data_format, self.config.unannotated_items_ratio)\n",
      "/home/harimkan/workspace/repo/otx-regression/src/otx/cli/cli.py:389: UserWarning: Automatically infer label_info from the given dataset. Then, giving it to the OTXModel.__init__() argument. If you don't want this behavior, please use `--disable-infer-num-classes` option.\n",
      "  warn(warning_msg, stacklevel=0)\n"
     ]
    },
    {
     "name": "stdout",
     "output_type": "stream",
     "text": [
      "Init model efficientnet_b2b, pretrained=True, models cache /home/harimkan/.torch/models\n",
      "Init model efficientnet_b2b, pretrained=True, models cache /home/harimkan/.torch/models\n",
      "Init model efficientnet_b2b, pretrained=True, models cache /home/harimkan/.torch/models\n"
     ]
    },
    {
     "name": "stderr",
     "output_type": "stream",
     "text": [
      "/home/harimkan/workspace/repo/otx-regression/src/otx/algo/utils/mmengine_utils.py:183: UserWarning: The model and loaded state dict do not match exactly\n",
      "\n",
      "size mismatch for roi_head.bbox_head.fc_cls.weight: copying a param with shape torch.Size([81, 1024]) from checkpoint, the shape in current model is torch.Size([11, 1024]).\n",
      "size mismatch for roi_head.bbox_head.fc_cls.bias: copying a param with shape torch.Size([81]) from checkpoint, the shape in current model is torch.Size([11]).\n",
      "size mismatch for roi_head.bbox_head.fc_reg.weight: copying a param with shape torch.Size([320, 1024]) from checkpoint, the shape in current model is torch.Size([40, 1024]).\n",
      "size mismatch for roi_head.bbox_head.fc_reg.bias: copying a param with shape torch.Size([320]) from checkpoint, the shape in current model is torch.Size([40]).\n",
      "size mismatch for roi_head.mask_head.conv_logits.weight: copying a param with shape torch.Size([80, 80, 1, 1]) from checkpoint, the shape in current model is torch.Size([10, 80, 1, 1]).\n",
      "size mismatch for roi_head.mask_head.conv_logits.bias: copying a param with shape torch.Size([80]) from checkpoint, the shape in current model is torch.Size([10]).\n",
      "  warn(\"\\n\".join(err_msg), stacklevel=1)\n",
      "/home/harimkan/workspace/repo/otx-regression/src/otx/engine/engine.py:767: UserWarning: Warning: ['resume', 'run_hpo', 'hpo_config', 'adaptive_bs'] -> not available in Engine constructor. It will be ignored. Use what need in the right places.\n",
      "  warn(msg, stacklevel=1)\n",
      "WARNING:root:Assign new label_info to the model. It is usually not recommended. Please create a new model instance by giving label_info to its initializer such as `OTXModel(label_info=label_info, ...)`.\n",
      "Trainer already configured with model summary callbacks: [<class 'lightning.pytorch.callbacks.rich_model_summary.RichModelSummary'>]. Skipping setting a default `ModelSummary` callback.\n",
      "GPU available: True (cuda), used: True\n",
      "TPU available: False, using: 0 TPU cores\n",
      "IPU available: False, using: 0 IPUs\n",
      "HPU available: False, using: 0 HPUs\n",
      "You are using a CUDA device ('NVIDIA GeForce RTX 3090') that has Tensor Cores. To properly utilize them, you should set `torch.set_float32_matmul_precision('medium' | 'high')` which will trade-off precision for performance. For more details, read https://pytorch.org/docs/stable/generated/torch.set_float32_matmul_precision.html#torch.set_float32_matmul_precision\n",
      "/home/harimkan/workspace/repo/otx-regression/venv/lib/python3.10/site-packages/lightning/pytorch/callbacks/model_checkpoint.py:652: Checkpoint directory /home/harimkan/workspace/repo/otx-regression/otx-workspace-ins_seg exists and is not empty.\n",
      "LOCAL_RANK: 0 - CUDA_VISIBLE_DEVICES: [0,1]\n"
     ]
    },
    {
     "data": {
      "text/html": [
       "<pre style=\"white-space:pre;overflow-x:auto;line-height:normal;font-family:Menlo,'DejaVu Sans Mono',consolas,'Courier New',monospace\">┏━━━┳━━━━━━━┳━━━━━━━━━━┳━━━━━━━━┓\n",
       "┃<span style=\"color: #800080; text-decoration-color: #800080; font-weight: bold\">   </span>┃<span style=\"color: #800080; text-decoration-color: #800080; font-weight: bold\"> Name  </span>┃<span style=\"color: #800080; text-decoration-color: #800080; font-weight: bold\"> Type     </span>┃<span style=\"color: #800080; text-decoration-color: #800080; font-weight: bold\"> Params </span>┃\n",
       "┡━━━╇━━━━━━━╇━━━━━━━━━━╇━━━━━━━━┩\n",
       "│<span style=\"color: #7f7f7f; text-decoration-color: #7f7f7f\"> 0 </span>│ model │ MaskRCNN │ 12.9 M │\n",
       "└───┴───────┴──────────┴────────┘\n",
       "</pre>\n"
      ],
      "text/plain": [
       "┏━━━┳━━━━━━━┳━━━━━━━━━━┳━━━━━━━━┓\n",
       "┃\u001b[1;35m \u001b[0m\u001b[1;35m \u001b[0m\u001b[1;35m \u001b[0m┃\u001b[1;35m \u001b[0m\u001b[1;35mName \u001b[0m\u001b[1;35m \u001b[0m┃\u001b[1;35m \u001b[0m\u001b[1;35mType    \u001b[0m\u001b[1;35m \u001b[0m┃\u001b[1;35m \u001b[0m\u001b[1;35mParams\u001b[0m\u001b[1;35m \u001b[0m┃\n",
       "┡━━━╇━━━━━━━╇━━━━━━━━━━╇━━━━━━━━┩\n",
       "│\u001b[2m \u001b[0m\u001b[2m0\u001b[0m\u001b[2m \u001b[0m│ model │ MaskRCNN │ 12.9 M │\n",
       "└───┴───────┴──────────┴────────┘\n"
      ]
     },
     "metadata": {},
     "output_type": "display_data"
    },
    {
     "data": {
      "text/html": [
       "<pre style=\"white-space:pre;overflow-x:auto;line-height:normal;font-family:Menlo,'DejaVu Sans Mono',consolas,'Courier New',monospace\"><span style=\"font-weight: bold\">Trainable params</span>: 12.9 M                                                                                           \n",
       "<span style=\"font-weight: bold\">Non-trainable params</span>: 0                                                                                            \n",
       "<span style=\"font-weight: bold\">Total params</span>: 12.9 M                                                                                               \n",
       "<span style=\"font-weight: bold\">Total estimated model params size (MB)</span>: 51                                                                         \n",
       "</pre>\n"
      ],
      "text/plain": [
       "\u001b[1mTrainable params\u001b[0m: 12.9 M                                                                                           \n",
       "\u001b[1mNon-trainable params\u001b[0m: 0                                                                                            \n",
       "\u001b[1mTotal params\u001b[0m: 12.9 M                                                                                               \n",
       "\u001b[1mTotal estimated model params size (MB)\u001b[0m: 51                                                                         \n"
      ]
     },
     "metadata": {},
     "output_type": "display_data"
    },
    {
     "name": "stderr",
     "output_type": "stream",
     "text": [
      "/home/harimkan/workspace/repo/otx-regression/venv/lib/python3.10/site-packages/torch/utils/data/sampler.py:64: UserWarning: `data_source` argument is not used and will be removed in 2.2.0.You may still have custom implementation that utilizes it.\n",
      "  warnings.warn(\"`data_source` argument is not used and will be removed in 2.2.0.\"\n"
     ]
    },
    {
     "data": {
      "text/html": [
       "<pre style=\"white-space:pre;overflow-x:auto;line-height:normal;font-family:Menlo,'DejaVu Sans Mono',consolas,'Courier New',monospace\">/home/harimkan/workspace/repo/otx-regression/venv/lib/python3.10/site-packages/rich/live.py:231: UserWarning: \n",
       "install \"ipywidgets\" for Jupyter support\n",
       "  warnings.warn('install \"ipywidgets\" for Jupyter support')\n",
       "</pre>\n"
      ],
      "text/plain": [
       "/home/harimkan/workspace/repo/otx-regression/venv/lib/python3.10/site-packages/rich/live.py:231: UserWarning: \n",
       "install \"ipywidgets\" for Jupyter support\n",
       "  warnings.warn('install \"ipywidgets\" for Jupyter support')\n"
      ]
     },
     "metadata": {},
     "output_type": "display_data"
    },
    {
     "name": "stderr",
     "output_type": "stream",
     "text": [
      "/home/harimkan/workspace/repo/otx-regression/venv/lib/python3.10/site-packages/lightning/pytorch/loops/fit_loop.py:298: The number of training batches (23) is smaller than the logging interval Trainer(log_every_n_steps=50). Set a lower value for log_every_n_steps if you want to see logs for the training epoch.\n",
      "WARNING:root:You are using AdaptiveTrainScheduling hook. This hook will temporarily update Trainer.check_val_every_n_epoch adaptively: 1 => 3\n",
      "WARNING:root:The patience of early stopping will be changed due to the effect of adaptive interval: 10 --> 3.\n",
      "WARNING:root:The frequency of LRscheduler will be changed due to the effect of adaptive interval: 1 --> 3.\n",
      "WARNING:root:The patience of LRscheduler will be changed due to the effect of adaptive interval: 4 --> 1.\n",
      "WARNING:root:Trainer.log_every_n_steps is higher than the number of iterations in a training epoch. To ensure logging at the last batch, temporarily update Trainer.log_every_n_steps: 50 => 23\n"
     ]
    },
    {
     "data": {
      "text/html": [
       "<pre style=\"white-space:pre;overflow-x:auto;line-height:normal;font-family:Menlo,'DejaVu Sans Mono',consolas,'Courier New',monospace\">/home/harimkan/workspace/repo/otx-regression/src/otx/core/model/base.py:348: UserWarning: Log metric \n",
       "name=val/classes is not a scalar tensor. Skip logging it.\n",
       "  warnings.warn(msg, stacklevel=1)\n",
       "</pre>\n"
      ],
      "text/plain": [
       "/home/harimkan/workspace/repo/otx-regression/src/otx/core/model/base.py:348: UserWarning: Log metric \n",
       "name=val/classes is not a scalar tensor. Skip logging it.\n",
       "  warnings.warn(msg, stacklevel=1)\n"
      ]
     },
     "metadata": {},
     "output_type": "display_data"
    },
    {
     "name": "stderr",
     "output_type": "stream",
     "text": [
      "`Trainer.fit` stopped: `max_epochs=20` reached.\n"
     ]
    },
    {
     "data": {
      "text/html": [
       "<pre style=\"white-space:pre;overflow-x:auto;line-height:normal;font-family:Menlo,'DejaVu Sans Mono',consolas,'Courier New',monospace\"></pre>\n"
      ],
      "text/plain": []
     },
     "metadata": {},
     "output_type": "display_data"
    },
    {
     "data": {
      "text/html": [
       "<pre style=\"white-space:pre;overflow-x:auto;line-height:normal;font-family:Menlo,'DejaVu Sans Mono',consolas,'Courier New',monospace\">\n",
       "</pre>\n"
      ],
      "text/plain": [
       "\n"
      ]
     },
     "metadata": {},
     "output_type": "display_data"
    },
    {
     "data": {
      "text/plain": [
       "{'lr-SGD': tensor(0.0070),\n",
       " 'lr-SGD-momentum': tensor(0.9000),\n",
       " 'lr-SGD-1': tensor(0.0070),\n",
       " 'lr-SGD-1-momentum': tensor(0.9000),\n",
       " 'train/loss_rpn_cls': tensor(0.0009),\n",
       " 'train/loss_rpn_bbox': tensor(0.0054),\n",
       " 'train/loss_cls': tensor(0.0154),\n",
       " 'train/loss_bbox': tensor(0.0755),\n",
       " 'train/loss_mask': tensor(0.0336),\n",
       " 'train/loss': tensor(0.1308),\n",
       " 'train/data_time': tensor(0.0095),\n",
       " 'train/iter_time': tensor(0.2578),\n",
       " 'validation/data_time': tensor(0.0020),\n",
       " 'validation/iter_time': tensor(0.0360),\n",
       " 'val/map': tensor(0.9325),\n",
       " 'val/map_50': tensor(1.),\n",
       " 'val/map_75': tensor(0.9770),\n",
       " 'val/map_small': tensor(-1.),\n",
       " 'val/map_medium': tensor(0.9744),\n",
       " 'val/map_large': tensor(0.9224),\n",
       " 'val/mar_1': tensor(0.5688),\n",
       " 'val/mar_10': tensor(0.9538),\n",
       " 'val/mar_100': tensor(0.9548),\n",
       " 'val/mar_small': tensor(-1.),\n",
       " 'val/mar_medium': tensor(0.9833),\n",
       " 'val/mar_large': tensor(0.9470),\n",
       " 'val/map_per_class': tensor(-1.),\n",
       " 'val/mar_100_per_class': tensor(-1.),\n",
       " 'val/f1-score': tensor(0.9984)}"
      ]
     },
     "execution_count": 5,
     "metadata": {},
     "output_type": "execute_result"
    }
   ],
   "source": [
    "from otx.engine import Engine\n",
    "\n",
    "recipe = \"src/otx/recipe/instance_segmentation/maskrcnn_efficientnetb2b.yaml\"\n",
    "override_dataset_format = {\"data.config.data_format\": \"datumaro\"}\n",
    "\n",
    "engine = Engine.from_config(config_path=recipe, data_root=data_root, work_dir=work_dir, **override_dataset_format)\n",
    "engine.train(max_epochs=20)"
   ]
  },
  {
   "cell_type": "markdown",
   "metadata": {},
   "source": [
    "As seen from the output, the recipe has been loaded successfully, and we have trained the model using the recipe. The model has been saved in the `work_dir` variable, which is `./otx-workspace-ins-seg` in this case. You could browse the `work_dir` to see the saved model and other files.\n",
    "\n",
    "## Evaluate torch model\n",
    "Now that we trained the model, we could test the performance with `Engine`'s `test` entrypoint. The `test` entrypoint will evaluate the model on the test dataset and return the metrics."
   ]
  },
  {
   "cell_type": "code",
   "execution_count": 6,
   "metadata": {},
   "outputs": [
    {
     "name": "stdout",
     "output_type": "stream",
     "text": [
      "Init model efficientnet_b2b, pretrained=True, models cache /home/harimkan/.torch/models\n",
      "Init model efficientnet_b2b, pretrained=True, models cache /home/harimkan/.torch/models\n",
      "Init model efficientnet_b2b, pretrained=True, models cache /home/harimkan/.torch/models\n"
     ]
    },
    {
     "name": "stderr",
     "output_type": "stream",
     "text": [
      "WARNING:root:Assign new tile_config to the model. It is usually not recommended. Please create a new model instance by giving tile_config to its initializer such as `OTXModel(..., tile_config=tile_config)`.\n",
      "Trainer already configured with model summary callbacks: [<class 'lightning.pytorch.callbacks.rich_model_summary.RichModelSummary'>]. Skipping setting a default `ModelSummary` callback.\n",
      "GPU available: True (cuda), used: True\n",
      "TPU available: False, using: 0 TPU cores\n",
      "IPU available: False, using: 0 IPUs\n",
      "HPU available: False, using: 0 HPUs\n",
      "LOCAL_RANK: 0 - CUDA_VISIBLE_DEVICES: [0,1]\n"
     ]
    },
    {
     "data": {
      "text/html": [
       "<pre style=\"white-space:pre;overflow-x:auto;line-height:normal;font-family:Menlo,'DejaVu Sans Mono',consolas,'Courier New',monospace\">/home/harimkan/workspace/repo/otx-regression/src/otx/core/model/base.py:348: UserWarning: Log metric \n",
       "name=test/classes is not a scalar tensor. Skip logging it.\n",
       "  warnings.warn(msg, stacklevel=1)\n",
       "</pre>\n"
      ],
      "text/plain": [
       "/home/harimkan/workspace/repo/otx-regression/src/otx/core/model/base.py:348: UserWarning: Log metric \n",
       "name=test/classes is not a scalar tensor. Skip logging it.\n",
       "  warnings.warn(msg, stacklevel=1)\n"
      ]
     },
     "metadata": {},
     "output_type": "display_data"
    },
    {
     "data": {
      "text/html": [
       "<pre style=\"white-space:pre;overflow-x:auto;line-height:normal;font-family:Menlo,'DejaVu Sans Mono',consolas,'Courier New',monospace\">┏━━━━━━━━━━━━━━━━━━━━━━━━━━━┳━━━━━━━━━━━━━━━━━━━━━━━━━━━┓\n",
       "┃<span style=\"font-weight: bold\">        Test metric        </span>┃<span style=\"font-weight: bold\">       DataLoader 0        </span>┃\n",
       "┡━━━━━━━━━━━━━━━━━━━━━━━━━━━╇━━━━━━━━━━━━━━━━━━━━━━━━━━━┩\n",
       "│<span style=\"color: #008080; text-decoration-color: #008080\">      test/data_time       </span>│<span style=\"color: #800080; text-decoration-color: #800080\">   0.0020329500548541546   </span>│\n",
       "│<span style=\"color: #008080; text-decoration-color: #008080\">       test/f1-score       </span>│<span style=\"color: #800080; text-decoration-color: #800080\">     0.984542191028595     </span>│\n",
       "│<span style=\"color: #008080; text-decoration-color: #008080\">      test/iter_time       </span>│<span style=\"color: #800080; text-decoration-color: #800080\">   0.034380391240119934    </span>│\n",
       "│<span style=\"color: #008080; text-decoration-color: #008080\">         test/map          </span>│<span style=\"color: #800080; text-decoration-color: #800080\">    0.8622666597366333     </span>│\n",
       "│<span style=\"color: #008080; text-decoration-color: #008080\">        test/map_50        </span>│<span style=\"color: #800080; text-decoration-color: #800080\">    0.9528096318244934     </span>│\n",
       "│<span style=\"color: #008080; text-decoration-color: #008080\">        test/map_75        </span>│<span style=\"color: #800080; text-decoration-color: #800080\">    0.9277073740959167     </span>│\n",
       "│<span style=\"color: #008080; text-decoration-color: #008080\">      test/map_large       </span>│<span style=\"color: #800080; text-decoration-color: #800080\">    0.8328853845596313     </span>│\n",
       "│<span style=\"color: #008080; text-decoration-color: #008080\">      test/map_medium      </span>│<span style=\"color: #800080; text-decoration-color: #800080\">    0.9689493775367737     </span>│\n",
       "│<span style=\"color: #008080; text-decoration-color: #008080\">    test/map_per_class     </span>│<span style=\"color: #800080; text-decoration-color: #800080\">           -1.0            </span>│\n",
       "│<span style=\"color: #008080; text-decoration-color: #008080\">      test/map_small       </span>│<span style=\"color: #800080; text-decoration-color: #800080\">            0.0            </span>│\n",
       "│<span style=\"color: #008080; text-decoration-color: #008080\">        test/mar_1         </span>│<span style=\"color: #800080; text-decoration-color: #800080\">    0.4996693730354309     </span>│\n",
       "│<span style=\"color: #008080; text-decoration-color: #008080\">        test/mar_10        </span>│<span style=\"color: #800080; text-decoration-color: #800080\">    0.8911078572273254     </span>│\n",
       "│<span style=\"color: #008080; text-decoration-color: #008080\">       test/mar_100        </span>│<span style=\"color: #800080; text-decoration-color: #800080\">    0.8925893902778625     </span>│\n",
       "│<span style=\"color: #008080; text-decoration-color: #008080\">  test/mar_100_per_class   </span>│<span style=\"color: #800080; text-decoration-color: #800080\">           -1.0            </span>│\n",
       "│<span style=\"color: #008080; text-decoration-color: #008080\">      test/mar_large       </span>│<span style=\"color: #800080; text-decoration-color: #800080\">    0.8707489967346191     </span>│\n",
       "│<span style=\"color: #008080; text-decoration-color: #008080\">      test/mar_medium      </span>│<span style=\"color: #800080; text-decoration-color: #800080\">    0.9766375422477722     </span>│\n",
       "│<span style=\"color: #008080; text-decoration-color: #008080\">      test/mar_small       </span>│<span style=\"color: #800080; text-decoration-color: #800080\">            0.0            </span>│\n",
       "└───────────────────────────┴───────────────────────────┘\n",
       "</pre>\n"
      ],
      "text/plain": [
       "┏━━━━━━━━━━━━━━━━━━━━━━━━━━━┳━━━━━━━━━━━━━━━━━━━━━━━━━━━┓\n",
       "┃\u001b[1m \u001b[0m\u001b[1m       Test metric       \u001b[0m\u001b[1m \u001b[0m┃\u001b[1m \u001b[0m\u001b[1m      DataLoader 0       \u001b[0m\u001b[1m \u001b[0m┃\n",
       "┡━━━━━━━━━━━━━━━━━━━━━━━━━━━╇━━━━━━━━━━━━━━━━━━━━━━━━━━━┩\n",
       "│\u001b[36m \u001b[0m\u001b[36m     test/data_time      \u001b[0m\u001b[36m \u001b[0m│\u001b[35m \u001b[0m\u001b[35m  0.0020329500548541546  \u001b[0m\u001b[35m \u001b[0m│\n",
       "│\u001b[36m \u001b[0m\u001b[36m      test/f1-score      \u001b[0m\u001b[36m \u001b[0m│\u001b[35m \u001b[0m\u001b[35m    0.984542191028595    \u001b[0m\u001b[35m \u001b[0m│\n",
       "│\u001b[36m \u001b[0m\u001b[36m     test/iter_time      \u001b[0m\u001b[36m \u001b[0m│\u001b[35m \u001b[0m\u001b[35m  0.034380391240119934   \u001b[0m\u001b[35m \u001b[0m│\n",
       "│\u001b[36m \u001b[0m\u001b[36m        test/map         \u001b[0m\u001b[36m \u001b[0m│\u001b[35m \u001b[0m\u001b[35m   0.8622666597366333    \u001b[0m\u001b[35m \u001b[0m│\n",
       "│\u001b[36m \u001b[0m\u001b[36m       test/map_50       \u001b[0m\u001b[36m \u001b[0m│\u001b[35m \u001b[0m\u001b[35m   0.9528096318244934    \u001b[0m\u001b[35m \u001b[0m│\n",
       "│\u001b[36m \u001b[0m\u001b[36m       test/map_75       \u001b[0m\u001b[36m \u001b[0m│\u001b[35m \u001b[0m\u001b[35m   0.9277073740959167    \u001b[0m\u001b[35m \u001b[0m│\n",
       "│\u001b[36m \u001b[0m\u001b[36m     test/map_large      \u001b[0m\u001b[36m \u001b[0m│\u001b[35m \u001b[0m\u001b[35m   0.8328853845596313    \u001b[0m\u001b[35m \u001b[0m│\n",
       "│\u001b[36m \u001b[0m\u001b[36m     test/map_medium     \u001b[0m\u001b[36m \u001b[0m│\u001b[35m \u001b[0m\u001b[35m   0.9689493775367737    \u001b[0m\u001b[35m \u001b[0m│\n",
       "│\u001b[36m \u001b[0m\u001b[36m   test/map_per_class    \u001b[0m\u001b[36m \u001b[0m│\u001b[35m \u001b[0m\u001b[35m          -1.0           \u001b[0m\u001b[35m \u001b[0m│\n",
       "│\u001b[36m \u001b[0m\u001b[36m     test/map_small      \u001b[0m\u001b[36m \u001b[0m│\u001b[35m \u001b[0m\u001b[35m           0.0           \u001b[0m\u001b[35m \u001b[0m│\n",
       "│\u001b[36m \u001b[0m\u001b[36m       test/mar_1        \u001b[0m\u001b[36m \u001b[0m│\u001b[35m \u001b[0m\u001b[35m   0.4996693730354309    \u001b[0m\u001b[35m \u001b[0m│\n",
       "│\u001b[36m \u001b[0m\u001b[36m       test/mar_10       \u001b[0m\u001b[36m \u001b[0m│\u001b[35m \u001b[0m\u001b[35m   0.8911078572273254    \u001b[0m\u001b[35m \u001b[0m│\n",
       "│\u001b[36m \u001b[0m\u001b[36m      test/mar_100       \u001b[0m\u001b[36m \u001b[0m│\u001b[35m \u001b[0m\u001b[35m   0.8925893902778625    \u001b[0m\u001b[35m \u001b[0m│\n",
       "│\u001b[36m \u001b[0m\u001b[36m test/mar_100_per_class  \u001b[0m\u001b[36m \u001b[0m│\u001b[35m \u001b[0m\u001b[35m          -1.0           \u001b[0m\u001b[35m \u001b[0m│\n",
       "│\u001b[36m \u001b[0m\u001b[36m     test/mar_large      \u001b[0m\u001b[36m \u001b[0m│\u001b[35m \u001b[0m\u001b[35m   0.8707489967346191    \u001b[0m\u001b[35m \u001b[0m│\n",
       "│\u001b[36m \u001b[0m\u001b[36m     test/mar_medium     \u001b[0m\u001b[36m \u001b[0m│\u001b[35m \u001b[0m\u001b[35m   0.9766375422477722    \u001b[0m\u001b[35m \u001b[0m│\n",
       "│\u001b[36m \u001b[0m\u001b[36m     test/mar_small      \u001b[0m\u001b[36m \u001b[0m│\u001b[35m \u001b[0m\u001b[35m           0.0           \u001b[0m\u001b[35m \u001b[0m│\n",
       "└───────────────────────────┴───────────────────────────┘\n"
      ]
     },
     "metadata": {},
     "output_type": "display_data"
    },
    {
     "data": {
      "text/html": [
       "<pre style=\"white-space:pre;overflow-x:auto;line-height:normal;font-family:Menlo,'DejaVu Sans Mono',consolas,'Courier New',monospace\"></pre>\n"
      ],
      "text/plain": []
     },
     "metadata": {},
     "output_type": "display_data"
    },
    {
     "data": {
      "text/html": [
       "<pre style=\"white-space:pre;overflow-x:auto;line-height:normal;font-family:Menlo,'DejaVu Sans Mono',consolas,'Courier New',monospace\">\n",
       "</pre>\n"
      ],
      "text/plain": [
       "\n"
      ]
     },
     "metadata": {},
     "output_type": "display_data"
    },
    {
     "data": {
      "text/plain": [
       "{'test/data_time': tensor(0.0020),\n",
       " 'test/iter_time': tensor(0.0344),\n",
       " 'test/map': tensor(0.8623),\n",
       " 'test/map_50': tensor(0.9528),\n",
       " 'test/map_75': tensor(0.9277),\n",
       " 'test/map_small': tensor(0.),\n",
       " 'test/map_medium': tensor(0.9689),\n",
       " 'test/map_large': tensor(0.8329),\n",
       " 'test/mar_1': tensor(0.4997),\n",
       " 'test/mar_10': tensor(0.8911),\n",
       " 'test/mar_100': tensor(0.8926),\n",
       " 'test/mar_small': tensor(0.),\n",
       " 'test/mar_medium': tensor(0.9766),\n",
       " 'test/mar_large': tensor(0.8707),\n",
       " 'test/map_per_class': tensor(-1.),\n",
       " 'test/mar_100_per_class': tensor(-1.),\n",
       " 'test/f1-score': tensor(0.9845)}"
      ]
     },
     "execution_count": 6,
     "metadata": {},
     "output_type": "execute_result"
    }
   ],
   "source": [
    "engine.test()"
   ]
  },
  {
   "cell_type": "markdown",
   "metadata": {},
   "source": [
    "## Explain torch model"
   ]
  },
  {
   "cell_type": "code",
   "execution_count": null,
   "metadata": {},
   "outputs": [],
   "source": [
    "from otx.core.config.explain import ExplainConfig\n",
    "\n",
    "engine.explain(explain_config=ExplainConfig(postprocess=True), dump=True)"
   ]
  },
  {
   "cell_type": "code",
   "execution_count": null,
   "metadata": {},
   "outputs": [],
   "source": [
    "from PIL import Image\n",
    "from IPython.display import display\n",
    "\n",
    "origin_img = Image.open(f'{data_root}/images/test/my_photo-1 - Copy - Copy - Copy.jpg')\n",
    "saliency_map_img = Image.open(f'{work_dir}/saliency_map/my_photo_1___Copy___Copy___Copy_class_1_saliency_map.png')\n",
    "overlay_img = Image.open(f'{work_dir}/saliency_map/my_photo_1___Copy___Copy___Copy_class_1_overlay.png')\n",
    "\n",
    "display(origin_img)\n",
    "display(saliency_map_img)\n",
    "display(overlay_img)"
   ]
  },
  {
   "cell_type": "markdown",
   "metadata": {},
   "source": [
    "## Export to IR Model"
   ]
  },
  {
   "cell_type": "code",
   "execution_count": null,
   "metadata": {},
   "outputs": [],
   "source": [
    "exported_ir_model_path = engine.export()\n",
    "exported_ir_model_path"
   ]
  },
  {
   "cell_type": "markdown",
   "metadata": {},
   "source": [
    "## Evaluate IR Model"
   ]
  },
  {
   "cell_type": "code",
   "execution_count": null,
   "metadata": {},
   "outputs": [],
   "source": [
    "engine.test(checkpoint=exported_ir_model_path)"
   ]
  },
  {
   "cell_type": "markdown",
   "metadata": {},
   "source": [
    "## Explain IR model"
   ]
  },
  {
   "cell_type": "code",
   "execution_count": null,
   "metadata": {},
   "outputs": [],
   "source": [
    "from otx.core.config.explain import ExplainConfig\n",
    "\n",
    "engine.explain(\n",
    "    checkpoint=exported_ir_model_path,\n",
    "    explain_config=ExplainConfig(postprocess=True),\n",
    "    dump=True,\n",
    ")"
   ]
  },
  {
   "cell_type": "code",
   "execution_count": null,
   "metadata": {},
   "outputs": [],
   "source": [
    "from PIL import Image\n",
    "from IPython.display import display\n",
    "\n",
    "origin_img = Image.open(f'{data_root}/images/test/my_photo-1 - Copy - Copy - Copy.jpg')\n",
    "saliency_map_img = Image.open(f'{work_dir}/saliency_map/my_photo_1___Copy___Copy___Copy_class_1_saliency_map.png')\n",
    "overlay_img = Image.open(f'{work_dir}/saliency_map/my_photo_1___Copy___Copy___Copy_class_1_overlay.png')\n",
    "\n",
    "display(origin_img)\n",
    "display(saliency_map_img)\n",
    "display(overlay_img)"
   ]
  }
 ],
 "metadata": {
  "kernelspec": {
   "display_name": "venv",
   "language": "python",
   "name": "python3"
  },
  "language_info": {
   "codemirror_mode": {
    "name": "ipython",
    "version": 3
   },
   "file_extension": ".py",
   "mimetype": "text/x-python",
   "name": "python",
   "nbconvert_exporter": "python",
   "pygments_lexer": "ipython3",
   "version": "3.10.14"
  }
 },
 "nbformat": 4,
 "nbformat_minor": 2
}
