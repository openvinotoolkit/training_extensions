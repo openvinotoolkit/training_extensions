{
 "cells": [
  {
   "cell_type": "markdown",
   "metadata": {},
   "source": [
    "# Classification Task\n",
    "\n",
    "## Installation and Setup\n",
    "For installation and setting up the repo, please refer to the [Installation Notebook](000_install.ipynb). "
   ]
  },
  {
   "cell_type": "code",
   "execution_count": 1,
   "metadata": {},
   "outputs": [
    {
     "data": {
      "text/plain": [
       "'/home/sakcay/Projects/training_extensions'"
      ]
     },
     "execution_count": 1,
     "metadata": {},
     "output_type": "execute_result"
    }
   ],
   "source": [
    "import os\n",
    "from utils.io import setup_repo\n",
    "\n",
    "# Setup repo and checkout to the branch with the tutorials\n",
    "setup_repo(\n",
    "    git_url=\"https://github.com/openvinotoolkit/training_extensions.git\",\n",
    "    branch='tutorials/cvpr24',\n",
    ")\n",
    "os.getcwd()"
   ]
  },
  {
   "cell_type": "markdown",
   "metadata": {},
   "source": [
    "The above code will setup the repo, change the directory to the root directory of the repo, so we have access to all the files and folders in the repo.\n",
    "\n",
    "## Prepare the Data\n",
    "\n",
    "The first step is to prepare the dataset. If you haven't downloaded the dataset yet, you could download it via the following:"
   ]
  },
  {
   "cell_type": "code",
   "execution_count": 2,
   "metadata": {},
   "outputs": [
    {
     "name": "stdout",
     "output_type": "stream",
     "text": [
      "The dataset is already available in data/fruits_and_vegetables\n"
     ]
    }
   ],
   "source": [
    "from notebooks.utils.download import download_dataset\n",
    "\n",
    "download_dataset(\n",
    "    url=(\n",
    "        \"https://github.com/openvinotoolkit/training_extensions/releases/download\"\n",
    "        \"/fruits_and_vegetables_dataset/fruits_and_vegetables.zip\"\n",
    "    ),\n",
    "    extract_to=\"data/fruits_and_vegetables\"\n",
    ")"
   ]
  },
  {
   "cell_type": "code",
   "execution_count": 6,
   "metadata": {},
   "outputs": [],
   "source": [
    "data_root = \"./data/fruits_and_vegetables\"\n",
    "work_dir = \"./otx-workspace-cls\""
   ]
  },
  {
   "cell_type": "markdown",
   "metadata": {},
   "source": [
    "## Training with OTX Recipes\n",
    "The first step in this task is to train a model using OTX recipes, which are available in the `recipes` folder. The recipes are in the form of `.yaml` files, which can be used to train a model using the `otx` library.\n",
    "\n",
    "These recipes are pre-defined by the OTX, which are validated and tested to work with many different use-cases.\n",
    "\n",
    "Let's see the available recipes for `MULTI_LABEL_CLS` task."
   ]
  },
  {
   "cell_type": "code",
   "execution_count": 4,
   "metadata": {},
   "outputs": [
    {
     "data": {
      "text/html": [
       "<pre style=\"white-space:pre;overflow-x:auto;line-height:normal;font-family:Menlo,'DejaVu Sans Mono',consolas,'Courier New',monospace\">       <span style=\"font-style: italic\">                                            OTX Recipes                                             </span>        \n",
       "       ┏━━━━━━━━━━━━━━━━━┳━━━━━━━━━━━━━━━━━━━━┳━━━━━━━━━━━━━━━━━━━━━━━━━━━━━━━━━━━━━━━━━━━━━━━━━━━━━━━━━━━┓        \n",
       "       ┃<span style=\"color: #800080; text-decoration-color: #800080; font-weight: bold\"> Task            </span>┃<span style=\"color: #800080; text-decoration-color: #800080; font-weight: bold\"> Model Name         </span>┃<span style=\"color: #800080; text-decoration-color: #800080; font-weight: bold\"> Recipe Path                                               </span>┃        \n",
       "       ┡━━━━━━━━━━━━━━━━━╇━━━━━━━━━━━━━━━━━━━━╇━━━━━━━━━━━━━━━━━━━━━━━━━━━━━━━━━━━━━━━━━━━━━━━━━━━━━━━━━━━┩        \n",
       "       │ MULTI_LABEL_CLS │ efficientnet_b0    │ /home/sakcay/Projects/training_extensions/src/otx/recipe/ │        \n",
       "       │                 │                    │ classification/multi_label_cls/efficientnet_b0.yaml       │        \n",
       "       │ MULTI_LABEL_CLS │ deit_tiny          │ /home/sakcay/Projects/training_extensions/src/otx/recipe/ │        \n",
       "       │                 │                    │ classification/multi_label_cls/deit_tiny.yaml             │        \n",
       "       │ MULTI_LABEL_CLS │ openvino_model     │ /home/sakcay/Projects/training_extensions/src/otx/recipe/ │        \n",
       "       │                 │                    │ classification/multi_label_cls/openvino_model.yaml        │        \n",
       "       │ MULTI_LABEL_CLS │ efficientnet_v2    │ /home/sakcay/Projects/training_extensions/src/otx/recipe/ │        \n",
       "       │                 │                    │ classification/multi_label_cls/efficientnet_v2.yaml       │        \n",
       "       │ MULTI_LABEL_CLS │ mobilenet_v3_large │ /home/sakcay/Projects/training_extensions/src/otx/recipe/ │        \n",
       "       │                 │                    │ classification/multi_label_cls/mobilenet_v3_large.yaml    │        \n",
       "       └─────────────────┴────────────────────┴───────────────────────────────────────────────────────────┘        \n",
       "</pre>\n"
      ],
      "text/plain": [
       "       \u001b[3m                                            OTX Recipes                                             \u001b[0m        \n",
       "       ┏━━━━━━━━━━━━━━━━━┳━━━━━━━━━━━━━━━━━━━━┳━━━━━━━━━━━━━━━━━━━━━━━━━━━━━━━━━━━━━━━━━━━━━━━━━━━━━━━━━━━┓        \n",
       "       ┃\u001b[1;35m \u001b[0m\u001b[1;35mTask           \u001b[0m\u001b[1;35m \u001b[0m┃\u001b[1;35m \u001b[0m\u001b[1;35mModel Name        \u001b[0m\u001b[1;35m \u001b[0m┃\u001b[1;35m \u001b[0m\u001b[1;35mRecipe Path                                              \u001b[0m\u001b[1;35m \u001b[0m┃        \n",
       "       ┡━━━━━━━━━━━━━━━━━╇━━━━━━━━━━━━━━━━━━━━╇━━━━━━━━━━━━━━━━━━━━━━━━━━━━━━━━━━━━━━━━━━━━━━━━━━━━━━━━━━━┩        \n",
       "       │ MULTI_LABEL_CLS │ efficientnet_b0    │ /home/sakcay/Projects/training_extensions/src/otx/recipe/ │        \n",
       "       │                 │                    │ classification/multi_label_cls/efficientnet_b0.yaml       │        \n",
       "       │ MULTI_LABEL_CLS │ deit_tiny          │ /home/sakcay/Projects/training_extensions/src/otx/recipe/ │        \n",
       "       │                 │                    │ classification/multi_label_cls/deit_tiny.yaml             │        \n",
       "       │ MULTI_LABEL_CLS │ openvino_model     │ /home/sakcay/Projects/training_extensions/src/otx/recipe/ │        \n",
       "       │                 │                    │ classification/multi_label_cls/openvino_model.yaml        │        \n",
       "       │ MULTI_LABEL_CLS │ efficientnet_v2    │ /home/sakcay/Projects/training_extensions/src/otx/recipe/ │        \n",
       "       │                 │                    │ classification/multi_label_cls/efficientnet_v2.yaml       │        \n",
       "       │ MULTI_LABEL_CLS │ mobilenet_v3_large │ /home/sakcay/Projects/training_extensions/src/otx/recipe/ │        \n",
       "       │                 │                    │ classification/multi_label_cls/mobilenet_v3_large.yaml    │        \n",
       "       └─────────────────┴────────────────────┴───────────────────────────────────────────────────────────┘        \n"
      ]
     },
     "metadata": {},
     "output_type": "display_data"
    }
   ],
   "source": [
    "from otx.engine.utils.api import list_models\n",
    "\n",
    "available_models = list_models(task=\"MULTI_LABEL_CLS\", print_table=True)"
   ]
  },
  {
   "cell_type": "markdown",
   "metadata": {},
   "source": [
    "As we can see from the output of the above cell, there are 5 recipes available for the `MULTI_LABEL_CLS` task. We can use any of these recipes to train a model. In this example, we will use the `efficientnet_b0.yaml` recipe to train a model."
   ]
  },
  {
   "cell_type": "code",
   "execution_count": 7,
   "metadata": {},
   "outputs": [
    {
     "data": {
      "text/html": [
       "<pre style=\"white-space:pre;overflow-x:auto;line-height:normal;font-family:Menlo,'DejaVu Sans Mono',consolas,'Courier New',monospace\"></pre>\n"
      ],
      "text/plain": []
     },
     "metadata": {},
     "output_type": "display_data"
    },
    {
     "name": "stderr",
     "output_type": "stream",
     "text": [
      "/home/sakcay/Projects/training_extensions/src/otx/core/data/module.py:62: UserWarning: There are empty annotation items in train set, Of these, only 0.0% are used.\n",
      "  dataset = pre_filtering(dataset, self.config.data_format, self.config.unannotated_items_ratio)\n",
      "/home/sakcay/Projects/training_extensions/src/otx/cli/cli.py:389: UserWarning: Automatically infer label_info from the given dataset. Then, giving it to the OTXModel.__init__() argument. If you don't want this behavior, please use `--disable-infer-num-classes` option.\n",
      "  warn(warning_msg, stacklevel=0)\n"
     ]
    },
    {
     "name": "stdout",
     "output_type": "stream",
     "text": [
      "Downloading /home/sakcay/.torch/models/efficientnet_b0-0752-0e386130.pth.zip from https://github.com/osmr/imgclsmob/releases/download/v0.0.364/efficientnet_b0-0752-0e386130.pth.zip...\n",
      "init weight - https://github.com/osmr/imgclsmob/releases/download/v0.0.364/efficientnet_b0-0752-0e386130.pth.zip\n",
      "init weight - https://github.com/osmr/imgclsmob/releases/download/v0.0.364/efficientnet_b0-0752-0e386130.pth.zip\n",
      "init weight - https://github.com/osmr/imgclsmob/releases/download/v0.0.364/efficientnet_b0-0752-0e386130.pth.zip\n"
     ]
    },
    {
     "name": "stderr",
     "output_type": "stream",
     "text": [
      "/home/sakcay/.pyenv/versions/3.11.8/envs/otx/lib/python3.11/site-packages/lightning/pytorch/utilities/parsing.py:198: Attribute 'loss_callable' is an instance of `nn.Module` and is already saved during checkpointing. It is recommended to ignore them using `self.save_hyperparameters(ignore=['loss_callable'])`.\n",
      "/home/sakcay/Projects/training_extensions/src/otx/engine/engine.py:767: UserWarning: Warning: ['resume', 'run_hpo', 'hpo_config', 'adaptive_bs'] -> not available in Engine constructor. It will be ignored. Use what need in the right places.\n",
      "  warn(msg, stacklevel=1)\n",
      "WARNING:root:Assign new label_info to the model. It is usually not recommended. Please create a new model instance by giving label_info to its initializer such as `OTXModel(label_info=label_info, ...)`.\n",
      "Trainer already configured with model summary callbacks: [<class 'lightning.pytorch.callbacks.rich_model_summary.RichModelSummary'>]. Skipping setting a default `ModelSummary` callback.\n",
      "GPU available: True (cuda), used: True\n",
      "TPU available: False, using: 0 TPU cores\n",
      "IPU available: False, using: 0 IPUs\n",
      "HPU available: False, using: 0 HPUs\n",
      "You are using a CUDA device ('NVIDIA GeForce RTX 3090') that has Tensor Cores. To properly utilize them, you should set `torch.set_float32_matmul_precision('medium' | 'high')` which will trade-off precision for performance. For more details, read https://pytorch.org/docs/stable/generated/torch.set_float32_matmul_precision.html#torch.set_float32_matmul_precision\n",
      "Missing logger folder: /home/sakcay/Projects/training_extensions/otx-workspace-cls/csv/\n",
      "/home/sakcay/.pyenv/versions/3.11.8/envs/otx/lib/python3.11/site-packages/lightning/pytorch/callbacks/model_checkpoint.py:639: Checkpoint directory /home/sakcay/Projects/training_extensions/otx-workspace-cls exists and is not empty.\n",
      "LOCAL_RANK: 0 - CUDA_VISIBLE_DEVICES: [0,1]\n"
     ]
    },
    {
     "data": {
      "text/html": [
       "<pre style=\"white-space:pre;overflow-x:auto;line-height:normal;font-family:Menlo,'DejaVu Sans Mono',consolas,'Courier New',monospace\">┏━━━┳━━━━━━━┳━━━━━━━━━━━━━━━━━┳━━━━━━━━┓\n",
       "┃<span style=\"color: #800080; text-decoration-color: #800080; font-weight: bold\">   </span>┃<span style=\"color: #800080; text-decoration-color: #800080; font-weight: bold\"> Name  </span>┃<span style=\"color: #800080; text-decoration-color: #800080; font-weight: bold\"> Type            </span>┃<span style=\"color: #800080; text-decoration-color: #800080; font-weight: bold\"> Params </span>┃\n",
       "┡━━━╇━━━━━━━╇━━━━━━━━━━━━━━━━━╇━━━━━━━━┩\n",
       "│<span style=\"color: #7f7f7f; text-decoration-color: #7f7f7f\"> 0 </span>│ model │ ImageClassifier │  4.0 M │\n",
       "└───┴───────┴─────────────────┴────────┘\n",
       "</pre>\n"
      ],
      "text/plain": [
       "┏━━━┳━━━━━━━┳━━━━━━━━━━━━━━━━━┳━━━━━━━━┓\n",
       "┃\u001b[1;35m \u001b[0m\u001b[1;35m \u001b[0m\u001b[1;35m \u001b[0m┃\u001b[1;35m \u001b[0m\u001b[1;35mName \u001b[0m\u001b[1;35m \u001b[0m┃\u001b[1;35m \u001b[0m\u001b[1;35mType           \u001b[0m\u001b[1;35m \u001b[0m┃\u001b[1;35m \u001b[0m\u001b[1;35mParams\u001b[0m\u001b[1;35m \u001b[0m┃\n",
       "┡━━━╇━━━━━━━╇━━━━━━━━━━━━━━━━━╇━━━━━━━━┩\n",
       "│\u001b[2m \u001b[0m\u001b[2m0\u001b[0m\u001b[2m \u001b[0m│ model │ ImageClassifier │  4.0 M │\n",
       "└───┴───────┴─────────────────┴────────┘\n"
      ]
     },
     "metadata": {},
     "output_type": "display_data"
    },
    {
     "data": {
      "text/html": [
       "<pre style=\"white-space:pre;overflow-x:auto;line-height:normal;font-family:Menlo,'DejaVu Sans Mono',consolas,'Courier New',monospace\"><span style=\"font-weight: bold\">Trainable params</span>: 4.0 M                                                                                            \n",
       "<span style=\"font-weight: bold\">Non-trainable params</span>: 0                                                                                            \n",
       "<span style=\"font-weight: bold\">Total params</span>: 4.0 M                                                                                                \n",
       "<span style=\"font-weight: bold\">Total estimated model params size (MB)</span>: 16                                                                         \n",
       "</pre>\n"
      ],
      "text/plain": [
       "\u001b[1mTrainable params\u001b[0m: 4.0 M                                                                                            \n",
       "\u001b[1mNon-trainable params\u001b[0m: 0                                                                                            \n",
       "\u001b[1mTotal params\u001b[0m: 4.0 M                                                                                                \n",
       "\u001b[1mTotal estimated model params size (MB)\u001b[0m: 16                                                                         \n"
      ]
     },
     "metadata": {},
     "output_type": "display_data"
    },
    {
     "name": "stderr",
     "output_type": "stream",
     "text": [
      "/home/sakcay/.pyenv/versions/3.11.8/envs/otx/lib/python3.11/site-packages/torch/utils/data/sampler.py:64: UserWarning: `data_source` argument is not used and will be removed in 2.2.0.You may still have custom implementation that utilizes it.\n",
      "  warnings.warn(\"`data_source` argument is not used and will be removed in 2.2.0.\"\n"
     ]
    },
    {
     "data": {
      "application/vnd.jupyter.widget-view+json": {
       "model_id": "d67a17a680dc4656a93d704bca62df11",
       "version_major": 2,
       "version_minor": 0
      },
      "text/plain": [
       "Output()"
      ]
     },
     "metadata": {},
     "output_type": "display_data"
    },
    {
     "name": "stderr",
     "output_type": "stream",
     "text": [
      "/home/sakcay/.pyenv/versions/3.11.8/envs/otx/lib/python3.11/site-packages/lightning/pytorch/loops/fit_loop.py:293: The number of training batches (2) is smaller than the logging interval Trainer(log_every_n_steps=50). Set a lower value for log_every_n_steps if you want to see logs for the training epoch.\n",
      "WARNING:root:You are using AdaptiveTrainScheduling hook. This hook will temporarily update Trainer.check_val_every_n_epoch adaptively: 1 => 5\n",
      "WARNING:root:The patience of early stopping will be changed due to the effect of adaptive interval: 3 --> 3.\n",
      "WARNING:root:The frequency of LRscheduler will be changed due to the effect of adaptive interval: 1 --> 5.\n",
      "WARNING:root:The patience of LRscheduler will be changed due to the effect of adaptive interval: 1 --> 1.\n",
      "WARNING:root:Trainer.log_every_n_steps is higher than the number of iterations in a training epoch. To ensure logging at the last batch, temporarily update Trainer.log_every_n_steps: 50 => 2\n"
     ]
    },
    {
     "data": {
      "text/html": [
       "<pre style=\"white-space:pre;overflow-x:auto;line-height:normal;font-family:Menlo,'DejaVu Sans Mono',consolas,'Courier New',monospace\">/home/sakcay/Projects/training_extensions/src/otx/core/model/base.py:348: UserWarning: Log metric \n",
       "name=val/conf_matrix is not a scalar tensor. Skip logging it.\n",
       "  warnings.warn(msg, stacklevel=1)\n",
       "</pre>\n"
      ],
      "text/plain": [
       "/home/sakcay/Projects/training_extensions/src/otx/core/model/base.py:348: UserWarning: Log metric \n",
       "name=val/conf_matrix is not a scalar tensor. Skip logging it.\n",
       "  warnings.warn(msg, stacklevel=1)\n"
      ]
     },
     "metadata": {},
     "output_type": "display_data"
    },
    {
     "name": "stderr",
     "output_type": "stream",
     "text": [
      "`Trainer.fit` stopped: `max_epochs=30` reached.\n"
     ]
    },
    {
     "data": {
      "text/html": [
       "<pre style=\"white-space:pre;overflow-x:auto;line-height:normal;font-family:Menlo,'DejaVu Sans Mono',consolas,'Courier New',monospace\"></pre>\n"
      ],
      "text/plain": []
     },
     "metadata": {},
     "output_type": "display_data"
    },
    {
     "data": {
      "text/html": [
       "<pre style=\"white-space:pre;overflow-x:auto;line-height:normal;font-family:Menlo,'DejaVu Sans Mono',consolas,'Courier New',monospace\">\n",
       "</pre>\n"
      ],
      "text/plain": [
       "\n"
      ]
     },
     "metadata": {},
     "output_type": "display_data"
    },
    {
     "data": {
      "text/plain": [
       "{'lr-SGD': tensor(0.0025),\n",
       " 'lr-SGD-momentum': tensor(0.9000),\n",
       " 'train/loss': tensor(0.8878),\n",
       " 'train/data_time': tensor(0.0041),\n",
       " 'train/iter_time': tensor(0.0500),\n",
       " 'val/accuracy': tensor(1.)}"
      ]
     },
     "execution_count": 7,
     "metadata": {},
     "output_type": "execute_result"
    }
   ],
   "source": [
    "from otx.engine import Engine\n",
    "\n",
    "recipe = \"src/otx/recipe/classification/multi_label_cls/efficientnet_b0.yaml\"\n",
    "\n",
    "engine = Engine.from_config(config_path=recipe, data_root=data_root, work_dir=work_dir)\n",
    "engine.train(max_epochs=30)"
   ]
  },
  {
   "cell_type": "markdown",
   "metadata": {},
   "source": [
    "As seen from the output, the recipe has been loaded successfully, and we have trained the model using the recipe. The model has been saved in the `work_dir` variable, which is `./otx-workspace-cls` in this case. You could browse the `work_dir` to see the saved model and other files.\n",
    "\n",
    "## Evaluate torch model\n",
    "Now that we trained the model, we could test the performance with `Engine`'s `test` entrypoint. The `test` entrypoint will evaluate the model on the test dataset and return the metrics."
   ]
  },
  {
   "cell_type": "code",
   "execution_count": 8,
   "metadata": {},
   "outputs": [
    {
     "name": "stdout",
     "output_type": "stream",
     "text": [
      "init weight - https://github.com/osmr/imgclsmob/releases/download/v0.0.364/efficientnet_b0-0752-0e386130.pth.zip\n",
      "init weight - https://github.com/osmr/imgclsmob/releases/download/v0.0.364/efficientnet_b0-0752-0e386130.pth.zip\n"
     ]
    },
    {
     "name": "stderr",
     "output_type": "stream",
     "text": [
      "/home/sakcay/.pyenv/versions/3.11.8/envs/otx/lib/python3.11/site-packages/lightning/pytorch/utilities/parsing.py:198: Attribute 'loss_callable' is an instance of `nn.Module` and is already saved during checkpointing. It is recommended to ignore them using `self.save_hyperparameters(ignore=['loss_callable'])`.\n",
      "WARNING:root:Assign new tile_config to the model. It is usually not recommended. Please create a new model instance by giving tile_config to its initializer such as `OTXModel(..., tile_config=tile_config)`.\n",
      "Trainer already configured with model summary callbacks: [<class 'lightning.pytorch.callbacks.rich_model_summary.RichModelSummary'>]. Skipping setting a default `ModelSummary` callback.\n",
      "GPU available: True (cuda), used: True\n",
      "TPU available: False, using: 0 TPU cores\n",
      "IPU available: False, using: 0 IPUs\n",
      "HPU available: False, using: 0 HPUs\n",
      "LOCAL_RANK: 0 - CUDA_VISIBLE_DEVICES: [0,1]\n"
     ]
    },
    {
     "name": "stdout",
     "output_type": "stream",
     "text": [
      "init weight - https://github.com/osmr/imgclsmob/releases/download/v0.0.364/efficientnet_b0-0752-0e386130.pth.zip\n"
     ]
    },
    {
     "data": {
      "application/vnd.jupyter.widget-view+json": {
       "model_id": "1d4bcc8ed14b4bc4acf6975eb7132a25",
       "version_major": 2,
       "version_minor": 0
      },
      "text/plain": [
       "Output()"
      ]
     },
     "metadata": {},
     "output_type": "display_data"
    },
    {
     "data": {
      "text/html": [
       "<pre style=\"white-space:pre;overflow-x:auto;line-height:normal;font-family:Menlo,'DejaVu Sans Mono',consolas,'Courier New',monospace\">/home/sakcay/Projects/training_extensions/src/otx/core/model/base.py:348: UserWarning: Log metric \n",
       "name=test/conf_matrix is not a scalar tensor. Skip logging it.\n",
       "  warnings.warn(msg, stacklevel=1)\n",
       "</pre>\n"
      ],
      "text/plain": [
       "/home/sakcay/Projects/training_extensions/src/otx/core/model/base.py:348: UserWarning: Log metric \n",
       "name=test/conf_matrix is not a scalar tensor. Skip logging it.\n",
       "  warnings.warn(msg, stacklevel=1)\n"
      ]
     },
     "metadata": {},
     "output_type": "display_data"
    },
    {
     "data": {
      "text/html": [
       "<pre style=\"white-space:pre;overflow-x:auto;line-height:normal;font-family:Menlo,'DejaVu Sans Mono',consolas,'Courier New',monospace\">┏━━━━━━━━━━━━━━━━━━━━━━━━━━━┳━━━━━━━━━━━━━━━━━━━━━━━━━━━┓\n",
       "┃<span style=\"font-weight: bold\">        Test metric        </span>┃<span style=\"font-weight: bold\">       DataLoader 0        </span>┃\n",
       "┡━━━━━━━━━━━━━━━━━━━━━━━━━━━╇━━━━━━━━━━━━━━━━━━━━━━━━━━━┩\n",
       "│<span style=\"color: #008080; text-decoration-color: #008080\">       test/accuracy       </span>│<span style=\"color: #800080; text-decoration-color: #800080\">            1.0            </span>│\n",
       "└───────────────────────────┴───────────────────────────┘\n",
       "</pre>\n"
      ],
      "text/plain": [
       "┏━━━━━━━━━━━━━━━━━━━━━━━━━━━┳━━━━━━━━━━━━━━━━━━━━━━━━━━━┓\n",
       "┃\u001b[1m \u001b[0m\u001b[1m       Test metric       \u001b[0m\u001b[1m \u001b[0m┃\u001b[1m \u001b[0m\u001b[1m      DataLoader 0       \u001b[0m\u001b[1m \u001b[0m┃\n",
       "┡━━━━━━━━━━━━━━━━━━━━━━━━━━━╇━━━━━━━━━━━━━━━━━━━━━━━━━━━┩\n",
       "│\u001b[36m \u001b[0m\u001b[36m      test/accuracy      \u001b[0m\u001b[36m \u001b[0m│\u001b[35m \u001b[0m\u001b[35m           1.0           \u001b[0m\u001b[35m \u001b[0m│\n",
       "└───────────────────────────┴───────────────────────────┘\n"
      ]
     },
     "metadata": {},
     "output_type": "display_data"
    },
    {
     "data": {
      "text/html": [
       "<pre style=\"white-space:pre;overflow-x:auto;line-height:normal;font-family:Menlo,'DejaVu Sans Mono',consolas,'Courier New',monospace\"></pre>\n"
      ],
      "text/plain": []
     },
     "metadata": {},
     "output_type": "display_data"
    },
    {
     "data": {
      "text/html": [
       "<pre style=\"white-space:pre;overflow-x:auto;line-height:normal;font-family:Menlo,'DejaVu Sans Mono',consolas,'Courier New',monospace\">\n",
       "</pre>\n"
      ],
      "text/plain": [
       "\n"
      ]
     },
     "metadata": {},
     "output_type": "display_data"
    },
    {
     "data": {
      "text/plain": [
       "{'test/accuracy': tensor(1.)}"
      ]
     },
     "execution_count": 8,
     "metadata": {},
     "output_type": "execute_result"
    }
   ],
   "source": [
    "engine.test()"
   ]
  },
  {
   "cell_type": "markdown",
   "metadata": {},
   "source": [
    "## Explain torch model"
   ]
  },
  {
   "cell_type": "code",
   "execution_count": null,
   "metadata": {},
   "outputs": [],
   "source": [
    "from otx.core.config.explain import ExplainConfig\n",
    "\n",
    "engine.explain(explain_config=ExplainConfig(postprocess=True), dump=True)"
   ]
  },
  {
   "cell_type": "code",
   "execution_count": null,
   "metadata": {},
   "outputs": [],
   "source": [
    "from PIL import Image\n",
    "from IPython.display import display\n",
    "\n",
    "origin_img = Image.open('/home/harimkan/workspace/repo/otx-regression/data/CVPR_demo_datumaro_seed0/images/test/my_photo-1 - Copy - Copy - Copy.jpg')\n",
    "saliency_map_img = Image.open('/home/harimkan/workspace/repo/otx-regression/notebooks/otx-workspace-cls/saliency_map/my_photo_1___Copy___Copy___Copy_class_0_saliency_map.png')\n",
    "overlay_img = Image.open('/home/harimkan/workspace/repo/otx-regression/notebooks/otx-workspace-cls/saliency_map/my_photo_1___Copy___Copy___Copy_class_0_overlay.png')\n",
    "\n",
    "display(origin_img)\n",
    "display(saliency_map_img)\n",
    "display(overlay_img)"
   ]
  },
  {
   "cell_type": "markdown",
   "metadata": {},
   "source": [
    "## Export to IR Model"
   ]
  },
  {
   "cell_type": "code",
   "execution_count": null,
   "metadata": {},
   "outputs": [],
   "source": [
    "exported_ir_model_path = engine.export()\n",
    "exported_ir_model_path"
   ]
  },
  {
   "cell_type": "markdown",
   "metadata": {},
   "source": [
    "## Evaluate IR Model"
   ]
  },
  {
   "cell_type": "code",
   "execution_count": null,
   "metadata": {},
   "outputs": [],
   "source": [
    "engine.test(checkpoint=exported_ir_model_path)"
   ]
  },
  {
   "cell_type": "markdown",
   "metadata": {},
   "source": [
    "## Explain IR model"
   ]
  },
  {
   "cell_type": "code",
   "execution_count": null,
   "metadata": {},
   "outputs": [],
   "source": [
    "from otx.core.config.explain import ExplainConfig\n",
    "\n",
    "engine.explain(\n",
    "    checkpoint=exported_ir_model_path,\n",
    "    explain_config=ExplainConfig(postprocess=True),\n",
    "    dump=True,\n",
    ")"
   ]
  },
  {
   "cell_type": "code",
   "execution_count": null,
   "metadata": {},
   "outputs": [],
   "source": [
    "from PIL import Image\n",
    "from IPython.display import display\n",
    "\n",
    "origin_img = Image.open('/home/harimkan/workspace/repo/otx-regression/data/CVPR_demo_datumaro_seed0/images/test/my_photo-1 - Copy - Copy - Copy.jpg')\n",
    "saliency_map_img = Image.open('/home/harimkan/workspace/repo/otx-regression/notebooks/otx-workspace-cls/saliency_map/my_photo_1___Copy___Copy___Copy_class_0_saliency_map.png')\n",
    "overlay_img = Image.open('/home/harimkan/workspace/repo/otx-regression/notebooks/otx-workspace-cls/saliency_map/my_photo_1___Copy___Copy___Copy_class_0_overlay.png')\n",
    "\n",
    "display(origin_img)\n",
    "display(saliency_map_img)\n",
    "display(overlay_img)"
   ]
  }
 ],
 "metadata": {
  "kernelspec": {
   "display_name": "venv",
   "language": "python",
   "name": "python3"
  },
  "language_info": {
   "codemirror_mode": {
    "name": "ipython",
    "version": 3
   },
   "file_extension": ".py",
   "mimetype": "text/x-python",
   "name": "python",
   "nbconvert_exporter": "python",
   "pygments_lexer": "ipython3",
   "version": "3.11.8"
  }
 },
 "nbformat": 4,
 "nbformat_minor": 2
}
