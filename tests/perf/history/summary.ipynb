{
 "cells": [
  {
   "cell_type": "code",
   "execution_count": 1,
   "metadata": {},
   "outputs": [
    {
     "name": "stdout",
     "output_type": "stream",
     "text": [
      "1.4.5 ano https://github.com/openvinotoolkit/training_extensions/actions/runs/8261771693/artifacts/1321606810\n",
      "1.4.5 cls https://github.com/openvinotoolkit/training_extensions/actions/runs/8261771693/artifacts/1323846222\n",
      "1.4.5 det https://github.com/openvinotoolkit/training_extensions/actions/runs/8261771693/artifacts/1321587394\n",
      "1.4.5 isg https://github.com/openvinotoolkit/training_extensions/actions/runs/8261771693/artifacts/1321629002\n",
      "1.4.5 ssg https://github.com/openvinotoolkit/training_extensions/actions/runs/8261771693/artifacts/1324033483\n",
      "1.4.5 vsp \n",
      "1.5.1 ano \n",
      "1.5.1 cls \n",
      "1.5.1 det \n",
      "1.5.1 isg \n",
      "1.5.1 ssg \n",
      "1.5.1 vsp \n",
      "1.6.0 ano \n",
      "1.6.0 cls \n",
      "1.6.0 det \n",
      "1.6.0 isg \n",
      "1.6.0 ssg \n",
      "1.6.0 vsp \n"
     ]
    }
   ],
   "source": [
    "import pandas as pd\n",
    "from pathlib import Path\n",
    "\n",
    "csvs = Path(\".\").glob(\"**/\")"
   ]
  }
 ],
 "metadata": {
  "kernelspec": {
   "display_name": "otx-v2",
   "language": "python",
   "name": "python3"
  },
  "language_info": {
   "codemirror_mode": {
    "name": "ipython",
    "version": 3
   },
   "file_extension": ".py",
   "mimetype": "text/x-python",
   "name": "python",
   "nbconvert_exporter": "python",
   "pygments_lexer": "ipython3",
   "version": "3.11.7"
  }
 },
 "nbformat": 4,
 "nbformat_minor": 2
}
