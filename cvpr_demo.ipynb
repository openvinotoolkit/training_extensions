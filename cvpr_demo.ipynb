{
 "cells": [
  {
   "cell_type": "markdown",
   "metadata": {},
   "source": [
    "# Data Preparation"
   ]
  },
  {
   "cell_type": "code",
   "execution_count": null,
   "metadata": {},
   "outputs": [],
   "source": [
    "!mkdir data\n",
    "!cd data\n",
    "!wget http://host.robots.ox.ac.uk/pascal/VOC/voc2012/VOCtrainval_11-May-2012.tar\n",
    "!tar -xvf VOCtrainval_11-May-2012.tar\n",
    "!cd .."
   ]
  },
  {
   "cell_type": "markdown",
   "metadata": {},
   "source": [
    "# CLI Examples"
   ]
  },
  {
   "cell_type": "code",
   "execution_count": null,
   "metadata": {},
   "outputs": [],
   "source": [
    "# Multi-Label Classification\n",
    "!otx train --config src/otx/recipe/classification/multi_label_cls/efficientnet_b0_light.yaml --data_root data/VOCdevkit/VOC2012 --data.config.data_format voc --work_dir otx-workspace-multi-label-cls\n",
    "# otx train --task MULTI_LABEL_CLS --data_root data/VOCdevkit/VOC2012 --data.config.data_format voc --work_dir otx-workspace-multi-label-cls-2\n",
    "# 10 epochs: About 4 min\n",
    "\n",
    "# Detection\n",
    "!otx train --config src/otx/recipe/detection/atss_mobilenetv2.yaml --data_root data/VOCdevkit/VOC2012 --data.config.data_format voc --work_dir otx-workspace-detection\n",
    "# otx train --task DETECTION --data_root data/VOCdevkit/VOC2012 --data.config.data_format voc --work_dir otx-workspace-detection-2\n",
    "\n",
    "# Instance-Segmentation\n",
    "!otx train --config src/otx/recipe/instance_segmentation/maskrcnn_r50.yaml --data_root data/VOCdevkit/VOC2012 --data.config.data_format voc --work_dir otx-workspace-instance-segmentation\n",
    "# otx train --task INSTANCE_SEGMENTATION --data_root data/VOCdevkit/VOC2012 --data.config.data_format voc --work_dir otx-workspace-instance-segmentation\n",
    "\n",
    "# Segmentation\n",
    "!otx train --config src/otx/recipe/semantic_segmentation/segnext_s.yaml --data_root data/VOCdevkit/VOC2012 --data.config.data_format voc --work_dir otx-workspace-segmentation\n",
    "# otx train --task SEMANTIC_SEGMENTATION --data_root data/VOCdevkit/VOC2012 --data.config.data_format voc --work_dir otx-workspace-segmentation"
   ]
  },
  {
   "cell_type": "markdown",
   "metadata": {},
   "source": [
    "# API Examples"
   ]
  },
  {
   "cell_type": "markdown",
   "metadata": {},
   "source": [
    "## Using OTX Configuration"
   ]
  },
  {
   "cell_type": "code",
   "execution_count": 1,
   "metadata": {},
   "outputs": [
    {
     "name": "stderr",
     "output_type": "stream",
     "text": [
      "/home/harimkan/workspace/repo/otx-regression/venv-2/lib/python3.10/site-packages/tqdm/auto.py:21: TqdmWarning: IProgress not found. Please update jupyter and ipywidgets. See https://ipywidgets.readthedocs.io/en/stable/user_install.html\n",
      "  from .autonotebook import tqdm as notebook_tqdm\n"
     ]
    },
    {
     "data": {
      "text/html": [
       "<pre style=\"white-space:pre;overflow-x:auto;line-height:normal;font-family:Menlo,'DejaVu Sans Mono',consolas,'Courier New',monospace\"></pre>\n"
      ],
      "text/plain": []
     },
     "metadata": {},
     "output_type": "display_data"
    },
    {
     "name": "stderr",
     "output_type": "stream",
     "text": [
      "/home/harimkan/workspace/repo/otx-regression/src/otx/core/data/module.py:61: UserWarning: There are empty annotation items in train set, Of these, only 0.0% are used.\n",
      "  dataset = pre_filtering(dataset, self.config.data_format, self.config.unannotated_items_ratio)\n",
      "/home/harimkan/workspace/repo/otx-regression/src/otx/core/data/pre_filtering.py:35: UserWarning: There are unused labels in dataset, they will be filtered out before training.\n",
      "  dataset = remove_unused_labels(dataset, data_format)\n",
      "WARNING:root:trainval is not available. Skip it\n",
      "/home/harimkan/workspace/repo/otx-regression/src/otx/cli/cli.py:381: UserWarning: The `num_classes` in dataset is 24 but, the `num_classes` of model is 1000. So, Update `model.num_classes` to 24.\n",
      "  warn(warning_msg, stacklevel=0)\n"
     ]
    },
    {
     "name": "stdout",
     "output_type": "stream",
     "text": [
      "init weight - https://github.com/osmr/imgclsmob/releases/download/v0.0.364/efficientnet_b0-0752-0e386130.pth.zip\n",
      "init weight - https://github.com/osmr/imgclsmob/releases/download/v0.0.364/efficientnet_b0-0752-0e386130.pth.zip\n",
      "init weight - https://github.com/osmr/imgclsmob/releases/download/v0.0.364/efficientnet_b0-0752-0e386130.pth.zip\n"
     ]
    },
    {
     "name": "stderr",
     "output_type": "stream",
     "text": [
      "/home/harimkan/workspace/repo/otx-regression/src/otx/engine/engine.py:775: UserWarning: Warning: ['resume', 'run_hpo', 'hpo_config'] -> not available in Engine constructor. It will be ignored. Use what need in the right places.\n",
      "  warn(msg, stacklevel=1)\n",
      "/home/harimkan/workspace/repo/otx-regression/venv-2/lib/python3.10/site-packages/lightning/fabric/connector.py:565: `precision=16` is supported for historical reasons but its usage is discouraged. Please set your precision to 16-mixed instead!\n",
      "Using 16bit Automatic Mixed Precision (AMP)\n",
      "Trainer already configured with model summary callbacks: [<class 'lightning.pytorch.callbacks.rich_model_summary.RichModelSummary'>]. Skipping setting a default `ModelSummary` callback.\n",
      "GPU available: True (cuda), used: True\n",
      "TPU available: False, using: 0 TPU cores\n",
      "IPU available: False, using: 0 IPUs\n",
      "HPU available: False, using: 0 HPUs\n",
      "You are using a CUDA device ('NVIDIA GeForce RTX 3090') that has Tensor Cores. To properly utilize them, you should set `torch.set_float32_matmul_precision('medium' | 'high')` which will trade-off precision for performance. For more details, read https://pytorch.org/docs/stable/generated/torch.set_float32_matmul_precision.html#torch.set_float32_matmul_precision\n",
      "Missing logger folder: /home/harimkan/workspace/repo/otx-regression/otx-workspace-api-multi-label-cls/csv/\n",
      "/home/harimkan/workspace/repo/otx-regression/venv-2/lib/python3.10/site-packages/lightning/pytorch/callbacks/model_checkpoint.py:639: Checkpoint directory /home/harimkan/workspace/repo/otx-regression/otx-workspace-api-multi-label-cls exists and is not empty.\n",
      "LOCAL_RANK: 0 - CUDA_VISIBLE_DEVICES: [0,1]\n"
     ]
    },
    {
     "data": {
      "text/html": [
       "<pre style=\"white-space:pre;overflow-x:auto;line-height:normal;font-family:Menlo,'DejaVu Sans Mono',consolas,'Courier New',monospace\">┏━━━┳━━━━━━━┳━━━━━━━━━━━━━━━━━┳━━━━━━━━┓\n",
       "┃<span style=\"color: #800080; text-decoration-color: #800080; font-weight: bold\">   </span>┃<span style=\"color: #800080; text-decoration-color: #800080; font-weight: bold\"> Name  </span>┃<span style=\"color: #800080; text-decoration-color: #800080; font-weight: bold\"> Type            </span>┃<span style=\"color: #800080; text-decoration-color: #800080; font-weight: bold\"> Params </span>┃\n",
       "┡━━━╇━━━━━━━╇━━━━━━━━━━━━━━━━━╇━━━━━━━━┩\n",
       "│<span style=\"color: #7f7f7f; text-decoration-color: #7f7f7f\"> 0 </span>│ model │ ImageClassifier │  4.0 M │\n",
       "└───┴───────┴─────────────────┴────────┘\n",
       "</pre>\n"
      ],
      "text/plain": [
       "┏━━━┳━━━━━━━┳━━━━━━━━━━━━━━━━━┳━━━━━━━━┓\n",
       "┃\u001b[1;35m \u001b[0m\u001b[1;35m \u001b[0m\u001b[1;35m \u001b[0m┃\u001b[1;35m \u001b[0m\u001b[1;35mName \u001b[0m\u001b[1;35m \u001b[0m┃\u001b[1;35m \u001b[0m\u001b[1;35mType           \u001b[0m\u001b[1;35m \u001b[0m┃\u001b[1;35m \u001b[0m\u001b[1;35mParams\u001b[0m\u001b[1;35m \u001b[0m┃\n",
       "┡━━━╇━━━━━━━╇━━━━━━━━━━━━━━━━━╇━━━━━━━━┩\n",
       "│\u001b[2m \u001b[0m\u001b[2m0\u001b[0m\u001b[2m \u001b[0m│ model │ ImageClassifier │  4.0 M │\n",
       "└───┴───────┴─────────────────┴────────┘\n"
      ]
     },
     "metadata": {},
     "output_type": "display_data"
    },
    {
     "data": {
      "text/html": [
       "<pre style=\"white-space:pre;overflow-x:auto;line-height:normal;font-family:Menlo,'DejaVu Sans Mono',consolas,'Courier New',monospace\"><span style=\"font-weight: bold\">Trainable params</span>: 4.0 M                                                                                            \n",
       "<span style=\"font-weight: bold\">Non-trainable params</span>: 0                                                                                            \n",
       "<span style=\"font-weight: bold\">Total params</span>: 4.0 M                                                                                                \n",
       "<span style=\"font-weight: bold\">Total estimated model params size (MB)</span>: 16                                                                         \n",
       "</pre>\n"
      ],
      "text/plain": [
       "\u001b[1mTrainable params\u001b[0m: 4.0 M                                                                                            \n",
       "\u001b[1mNon-trainable params\u001b[0m: 0                                                                                            \n",
       "\u001b[1mTotal params\u001b[0m: 4.0 M                                                                                                \n",
       "\u001b[1mTotal estimated model params size (MB)\u001b[0m: 16                                                                         \n"
      ]
     },
     "metadata": {},
     "output_type": "display_data"
    },
    {
     "name": "stderr",
     "output_type": "stream",
     "text": [
      "/home/harimkan/workspace/repo/otx-regression/venv-2/lib/python3.10/site-packages/torch/utils/data/sampler.py:64: UserWarning: `data_source` argument is not used and will be removed in 2.2.0.You may still have custom implementation that utilizes it.\n",
      "  warnings.warn(\"`data_source` argument is not used and will be removed in 2.2.0.\"\n"
     ]
    },
    {
     "data": {
      "text/html": [
       "<pre style=\"white-space:pre;overflow-x:auto;line-height:normal;font-family:Menlo,'DejaVu Sans Mono',consolas,'Courier New',monospace\">/home/harimkan/workspace/repo/otx-regression/venv-2/lib/python3.10/site-packages/rich/live.py:231: UserWarning: \n",
       "install \"ipywidgets\" for Jupyter support\n",
       "  warnings.warn('install \"ipywidgets\" for Jupyter support')\n",
       "</pre>\n"
      ],
      "text/plain": [
       "/home/harimkan/workspace/repo/otx-regression/venv-2/lib/python3.10/site-packages/rich/live.py:231: UserWarning: \n",
       "install \"ipywidgets\" for Jupyter support\n",
       "  warnings.warn('install \"ipywidgets\" for Jupyter support')\n"
      ]
     },
     "metadata": {},
     "output_type": "display_data"
    },
    {
     "name": "stderr",
     "output_type": "stream",
     "text": [
      "WARNING:root:Memory pool reaches it's limit. Cannot cache more. Freeze it.\n",
      "`Trainer.fit` stopped: `max_epochs=2` reached.\n"
     ]
    },
    {
     "data": {
      "text/html": [
       "<pre style=\"white-space:pre;overflow-x:auto;line-height:normal;font-family:Menlo,'DejaVu Sans Mono',consolas,'Courier New',monospace\"></pre>\n"
      ],
      "text/plain": []
     },
     "metadata": {},
     "output_type": "display_data"
    },
    {
     "data": {
      "text/html": [
       "<pre style=\"white-space:pre;overflow-x:auto;line-height:normal;font-family:Menlo,'DejaVu Sans Mono',consolas,'Courier New',monospace\">\n",
       "</pre>\n"
      ],
      "text/plain": [
       "\n"
      ]
     },
     "metadata": {},
     "output_type": "display_data"
    },
    {
     "data": {
      "text/plain": [
       "{'lr-SGD': tensor(0.0049),\n",
       " 'lr-SGD-momentum': tensor(0.),\n",
       " 'train/loss': tensor(1.0765),\n",
       " 'validation/data_time': tensor(0.0652),\n",
       " 'validation/iter_time': tensor(0.0858),\n",
       " 'val/accuracy': tensor(0.9592),\n",
       " 'train/data_time': tensor(0.0065),\n",
       " 'train/iter_time': tensor(0.0665)}"
      ]
     },
     "execution_count": 1,
     "metadata": {},
     "output_type": "execute_result"
    }
   ],
   "source": [
    "from otx.engine import Engine\n",
    "\n",
    "data_root = \"data/VOCdevkit/VOC2012\"\n",
    "recipe = \"src/otx/recipe/classification/multi_label_cls/efficientnet_b0_light.yaml\"\n",
    "override_kwargs = {\"data.config.data_format\": \"voc\"}\n",
    "engine = Engine.from_config(\n",
    "    config_path=recipe,\n",
    "    data_root=data_root,\n",
    "    work_dir=\"otx-workspace-api-multi-label-cls\",\n",
    "    **override_kwargs,\n",
    ")\n",
    "\n",
    "engine.train(max_epochs=2, precision=16)"
   ]
  },
  {
   "cell_type": "markdown",
   "metadata": {},
   "source": [
    "## With Customization datamodule & Model"
   ]
  },
  {
   "cell_type": "code",
   "execution_count": 2,
   "metadata": {},
   "outputs": [],
   "source": [
    "data_root = \"data/VOCdevkit/VOC2012\""
   ]
  },
  {
   "cell_type": "code",
   "execution_count": 8,
   "metadata": {},
   "outputs": [
    {
     "name": "stderr",
     "output_type": "stream",
     "text": [
      "/home/harimkan/workspace/repo/otx-regression/src/otx/core/data/module.py:61: UserWarning: There are empty annotation items in train set, Of these, only 0.0% are used.\n",
      "  dataset = pre_filtering(dataset, self.config.data_format, self.config.unannotated_items_ratio)\n"
     ]
    },
    {
     "name": "stdout",
     "output_type": "stream",
     "text": [
      "                                                  \r"
     ]
    },
    {
     "name": "stderr",
     "output_type": "stream",
     "text": [
      "/home/harimkan/workspace/repo/otx-regression/src/otx/core/data/pre_filtering.py:35: UserWarning: There are unused labels in dataset, they will be filtered out before training.\n",
      "  dataset = remove_unused_labels(dataset, data_format)\n",
      "WARNING:root:trainval is not available. Skip it\n"
     ]
    }
   ],
   "source": [
    "from otx.core.config.data import DataModuleConfig, SubsetConfig\n",
    "from otx.core.data.module import OTXDataModule\n",
    "\n",
    "simple_transforms = [\n",
    "    {\"type\": \"LoadImageFromFile\"},\n",
    "    {\"type\": \"Resize\", \"scale\": 224, \"backend\": \"cv2\"},\n",
    "    {\"type\": \"PackInputs\"},\n",
    "]\n",
    "\n",
    "datamodule = OTXDataModule(\n",
    "    task=\"MULTI_LABEL_CLS\",\n",
    "    config=DataModuleConfig(\n",
    "        data_format=\"voc\",\n",
    "        data_root=data_root,\n",
    "        train_subset=SubsetConfig(\n",
    "            subset_name=\"train\",\n",
    "            batch_size=8,\n",
    "            num_workers=2,\n",
    "            transform_lib_type=\"MMPRETRAIN\",\n",
    "            transforms=simple_transforms,\n",
    "        ),\n",
    "        val_subset=SubsetConfig(\n",
    "            subset_name=\"val\",\n",
    "            batch_size=8,\n",
    "            num_workers=2,\n",
    "            transform_lib_type=\"MMPRETRAIN\",\n",
    "            transforms=simple_transforms,\n",
    "        ),\n",
    "        test_subset=SubsetConfig(\n",
    "            subset_name=\"val\",\n",
    "            batch_size=8,\n",
    "            num_workers=2,\n",
    "            transform_lib_type=\"MMPRETRAIN\",\n",
    "            transforms=simple_transforms,\n",
    "        ),\n",
    "    ),\n",
    ")"
   ]
  },
  {
   "cell_type": "code",
   "execution_count": 9,
   "metadata": {},
   "outputs": [
    {
     "name": "stdout",
     "output_type": "stream",
     "text": [
      "init weight - https://github.com/osmr/imgclsmob/releases/download/v0.0.364/efficientnet_b0-0752-0e386130.pth.zip\n",
      "init weight - https://github.com/osmr/imgclsmob/releases/download/v0.0.364/efficientnet_b0-0752-0e386130.pth.zip\n",
      "init weight - https://github.com/osmr/imgclsmob/releases/download/v0.0.364/efficientnet_b0-0752-0e386130.pth.zip\n"
     ]
    }
   ],
   "source": [
    "from otx.algo.classification.efficientnet_b0 import EfficientNetB0ForMultilabelCls\n",
    "\n",
    "model = EfficientNetB0ForMultilabelCls(\n",
    "    num_classes=datamodule.label_info.num_classes,\n",
    ")"
   ]
  },
  {
   "cell_type": "code",
   "execution_count": 10,
   "metadata": {},
   "outputs": [
    {
     "name": "stderr",
     "output_type": "stream",
     "text": [
      "GPU available: True (cuda), used: True\n",
      "TPU available: False, using: 0 TPU cores\n",
      "IPU available: False, using: 0 IPUs\n",
      "HPU available: False, using: 0 HPUs\n",
      "WARNING:root:Model label_info is not equal to the Datamodule label_info. It will be overriden: LabelInfo(label_names=['label_0', 'label_1', 'label_2', 'label_3', 'label_4', 'label_5', 'label_6', 'label_7', 'label_8', 'label_9', 'label_10', 'label_11', 'label_12', 'label_13', 'label_14', 'label_15', 'label_16', 'label_17', 'label_18', 'label_19', 'label_20', 'label_21', 'label_22', 'label_23'], label_groups=[['label_0', 'label_1', 'label_2', 'label_3', 'label_4', 'label_5', 'label_6', 'label_7', 'label_8', 'label_9', 'label_10', 'label_11', 'label_12', 'label_13', 'label_14', 'label_15', 'label_16', 'label_17', 'label_18', 'label_19', 'label_20', 'label_21', 'label_22', 'label_23']]) => LabelInfo(label_names=['aeroplane', 'bicycle', 'bird', 'boat', 'bottle', 'bus', 'car', 'cat', 'chair', 'cow', 'diningtable', 'dog', 'horse', 'motorbike', 'person', 'pottedplant', 'sheep', 'sofa', 'train', 'tvmonitor', 'ignored', 'head', 'hand', 'foot'], label_groups=[['aeroplane', 'bicycle', 'bird', 'boat', 'bottle', 'bus', 'car', 'cat', 'chair', 'cow', 'diningtable', 'dog', 'horse', 'motorbike', 'person', 'pottedplant', 'sheep', 'sofa', 'train', 'tvmonitor', 'ignored', 'head', 'hand', 'foot']])\n",
      "LOCAL_RANK: 0 - CUDA_VISIBLE_DEVICES: [0,1]\n",
      "\n",
      "  | Name  | Type            | Params\n",
      "------------------------------------------\n",
      "0 | model | ImageClassifier | 4.0 M \n",
      "------------------------------------------\n",
      "4.0 M     Trainable params\n",
      "0         Non-trainable params\n",
      "4.0 M     Total params\n",
      "16.153    Total estimated model params size (MB)\n"
     ]
    },
    {
     "name": "stdout",
     "output_type": "stream",
     "text": [
      "Sanity Checking: |          | 0/? [00:00<?, ?it/s]"
     ]
    },
    {
     "name": "stdout",
     "output_type": "stream",
     "text": [
      "Epoch 0:  31%|███       | 222/715 [00:05<00:12, 39.34it/s, v_num=2, train/loss=1.680]"
     ]
    },
    {
     "name": "stderr",
     "output_type": "stream",
     "text": [
      "WARNING:root:Memory pool reaches it's limit. Cannot cache more. Freeze it.\n"
     ]
    },
    {
     "name": "stdout",
     "output_type": "stream",
     "text": [
      "Epoch 1: 100%|██████████| 715/715 [00:25<00:00, 27.57it/s, v_num=2, train/loss=0.473, val/accuracy=0.956]"
     ]
    },
    {
     "name": "stderr",
     "output_type": "stream",
     "text": [
      "`Trainer.fit` stopped: `max_epochs=2` reached.\n"
     ]
    },
    {
     "name": "stdout",
     "output_type": "stream",
     "text": [
      "Epoch 1: 100%|██████████| 715/715 [00:25<00:00, 27.53it/s, v_num=2, train/loss=0.473, val/accuracy=0.956]\n"
     ]
    },
    {
     "data": {
      "text/plain": [
       "{'train/loss': tensor(0.4730), 'val/accuracy': tensor(0.9556)}"
      ]
     },
     "execution_count": 10,
     "metadata": {},
     "output_type": "execute_result"
    }
   ],
   "source": [
    "from otx.engine import Engine\n",
    "\n",
    "# Multi-Label Classification\n",
    "engine = Engine(\n",
    "    datamodule=datamodule,\n",
    "    model=model,\n",
    "    work_dir=\"otx-workspace-api-multi-label-cls\",\n",
    ")\n",
    "\n",
    "engine.train(max_epochs=2)"
   ]
  },
  {
   "cell_type": "code",
   "execution_count": 12,
   "metadata": {},
   "outputs": [
    {
     "name": "stdout",
     "output_type": "stream",
     "text": [
      "init weight - https://github.com/osmr/imgclsmob/releases/download/v0.0.364/efficientnet_b0-0752-0e386130.pth.zip\n",
      "init weight - https://github.com/osmr/imgclsmob/releases/download/v0.0.364/efficientnet_b0-0752-0e386130.pth.zip\n",
      "init weight - https://github.com/osmr/imgclsmob/releases/download/v0.0.364/efficientnet_b0-0752-0e386130.pth.zip\n"
     ]
    },
    {
     "name": "stderr",
     "output_type": "stream",
     "text": [
      "GPU available: True (cuda), used: True\n",
      "TPU available: False, using: 0 TPU cores\n",
      "IPU available: False, using: 0 IPUs\n",
      "HPU available: False, using: 0 HPUs\n",
      "LOCAL_RANK: 0 - CUDA_VISIBLE_DEVICES: [0,1]\n"
     ]
    },
    {
     "name": "stdout",
     "output_type": "stream",
     "text": [
      "Testing DataLoader 0: 100%|██████████| 728/728 [00:08<00:00, 87.64it/s]\n"
     ]
    },
    {
     "data": {
      "text/html": [
       "<pre style=\"white-space:pre;overflow-x:auto;line-height:normal;font-family:Menlo,'DejaVu Sans Mono',consolas,'Courier New',monospace\">┏━━━━━━━━━━━━━━━━━━━━━━━━━━━┳━━━━━━━━━━━━━━━━━━━━━━━━━━━┓\n",
       "┃<span style=\"font-weight: bold\">        Test metric        </span>┃<span style=\"font-weight: bold\">       DataLoader 0        </span>┃\n",
       "┡━━━━━━━━━━━━━━━━━━━━━━━━━━━╇━━━━━━━━━━━━━━━━━━━━━━━━━━━┩\n",
       "│<span style=\"color: #008080; text-decoration-color: #008080\">       test/accuracy       </span>│<span style=\"color: #800080; text-decoration-color: #800080\">    0.9556142091751099     </span>│\n",
       "└───────────────────────────┴───────────────────────────┘\n",
       "</pre>\n"
      ],
      "text/plain": [
       "┏━━━━━━━━━━━━━━━━━━━━━━━━━━━┳━━━━━━━━━━━━━━━━━━━━━━━━━━━┓\n",
       "┃\u001b[1m \u001b[0m\u001b[1m       Test metric       \u001b[0m\u001b[1m \u001b[0m┃\u001b[1m \u001b[0m\u001b[1m      DataLoader 0       \u001b[0m\u001b[1m \u001b[0m┃\n",
       "┡━━━━━━━━━━━━━━━━━━━━━━━━━━━╇━━━━━━━━━━━━━━━━━━━━━━━━━━━┩\n",
       "│\u001b[36m \u001b[0m\u001b[36m      test/accuracy      \u001b[0m\u001b[36m \u001b[0m│\u001b[35m \u001b[0m\u001b[35m   0.9556142091751099    \u001b[0m\u001b[35m \u001b[0m│\n",
       "└───────────────────────────┴───────────────────────────┘\n"
      ]
     },
     "metadata": {},
     "output_type": "display_data"
    },
    {
     "data": {
      "text/plain": [
       "{'test/accuracy': tensor(0.9556)}"
      ]
     },
     "execution_count": 12,
     "metadata": {},
     "output_type": "execute_result"
    }
   ],
   "source": [
    "engine.test()"
   ]
  },
  {
   "cell_type": "markdown",
   "metadata": {},
   "source": [
    "## Enhancing Model"
   ]
  },
  {
   "cell_type": "markdown",
   "metadata": {},
   "source": [
    "### Improvement Score: Change augmentation & Sampler"
   ]
  },
  {
   "cell_type": "code",
   "execution_count": null,
   "metadata": {},
   "outputs": [],
   "source": [
    "from otx.core.config.data import DataModuleConfig, SamplerConfig, SubsetConfig\n",
    "from otx.core.data.module import OTXDataModule\n",
    "\n",
    "enhanced_transforms = [\n",
    "    {\"type\": \"LoadImageFromFile\"},\n",
    "    {\"type\": \"RandomResizedCrop\", \"scale\": 224, \"backend\": \"cv2\"}, # Resized -> RandomResizedCrop\n",
    "    {\"type\": \"PackInputs\"},\n",
    "]\n",
    "\n",
    "new_datamodule = OTXDataModule(\n",
    "    task=\"MULTI_LABEL_CLS\",\n",
    "    config=DataModuleConfig(\n",
    "        data_format=\"voc\",\n",
    "        data_root=data_root,\n",
    "        train_subset=SubsetConfig(\n",
    "            subset_name=\"train\",\n",
    "            batch_size=8,\n",
    "            num_workers=2,\n",
    "            transform_lib_type=\"MMPRETRAIN\",\n",
    "            transforms=enhanced_transforms,\n",
    "            sampler=SamplerConfig(class_path=\"otx.algo.samplers.balanced_sampler.BalancedSampler\"),\n",
    "        ),\n",
    "        val_subset=SubsetConfig(\n",
    "            subset_name=\"val\",\n",
    "            batch_size=8,\n",
    "            num_workers=2,\n",
    "            transform_lib_type=\"MMPRETRAIN\",\n",
    "            transforms=simple_transforms,\n",
    "        ),\n",
    "        test_subset=SubsetConfig(\n",
    "            subset_name=\"val\",\n",
    "            batch_size=8,\n",
    "            num_workers=2,\n",
    "            transform_lib_type=\"MMPRETRAIN\",\n",
    "            transforms=simple_transforms,\n",
    "        ),\n",
    "    ),\n",
    ")"
   ]
  },
  {
   "cell_type": "code",
   "execution_count": null,
   "metadata": {},
   "outputs": [],
   "source": [
    "from otx.engine import Engine\n",
    "\n",
    "engine = Engine(\n",
    "    datamodule=datamodule,\n",
    "    model=model,\n",
    "    work_dir=\"otx-workspace-api-multi-label-cls-enhanced-augmentation-sampler\",\n",
    ")\n",
    "\n",
    "engine.train(max_epochs=2)\n",
    "engine.test()"
   ]
  },
  {
   "cell_type": "markdown",
   "metadata": {},
   "source": [
    "## Improvement of E2E time with OTX Adaptive Scheduling"
   ]
  },
  {
   "cell_type": "code",
   "execution_count": null,
   "metadata": {},
   "outputs": [],
   "source": [
    "from lightning.pytorch.callbacks import EarlyStopping\n",
    "from otx.algo.callbacks.adaptive_train_scheduling import AdaptiveTrainScheduling\n",
    "\n",
    "callbacks = [\n",
    "    EarlyStopping(monitor=\"val/accuracy\", patience=3, mode=\"min\"),\n",
    "    AdaptiveTrainScheduling(),\n",
    "]\n",
    "\n",
    "engine.train(max_epochs=2, callbacks=callbacks)\n",
    "engine.test()"
   ]
  },
  {
   "cell_type": "markdown",
   "metadata": {},
   "source": [
    "## Auto-Configuration"
   ]
  },
  {
   "cell_type": "code",
   "execution_count": null,
   "metadata": {},
   "outputs": [],
   "source": [
    "# Detection with Auto-Configuration\n",
    "engine = Engine(\n",
    "    data_root=data_root,\n",
    "    task=\"MULTI_LABEL_CLS\",\n",
    "    work_dir=\"otx-workspace-api-multi-label-cls-auto\",\n",
    ")\n",
    "\n",
    "engine.train(max_epochs=3)"
   ]
  },
  {
   "cell_type": "code",
   "execution_count": null,
   "metadata": {},
   "outputs": [],
   "source": [
    "# Detection with Auto-Configuration\n",
    "engine = Engine(\n",
    "    data_root=data_root,\n",
    "    task=\"DETECTION\",\n",
    "    work_dir=\"otx-workspace-api-detection-auto\",\n",
    ")\n",
    "\n",
    "engine.train(max_epochs=3)"
   ]
  },
  {
   "cell_type": "code",
   "execution_count": null,
   "metadata": {},
   "outputs": [],
   "source": [
    "# Instance-segmentation with Auto-Configuration\n",
    "engine = Engine(\n",
    "    data_root=data_root,\n",
    "    task=\"INSTANCE_SEGMENTATION\",\n",
    "    work_dir=\"otx-workspace-api-ins-seg-auto\",\n",
    ")\n",
    "\n",
    "engine.train(max_epochs=3)"
   ]
  }
 ],
 "metadata": {
  "kernelspec": {
   "display_name": "venv-2",
   "language": "python",
   "name": "python3"
  },
  "language_info": {
   "codemirror_mode": {
    "name": "ipython",
    "version": 3
   },
   "file_extension": ".py",
   "mimetype": "text/x-python",
   "name": "python",
   "nbconvert_exporter": "python",
   "pygments_lexer": "ipython3",
   "version": "3.10.13"
  }
 },
 "nbformat": 4,
 "nbformat_minor": 2
}
