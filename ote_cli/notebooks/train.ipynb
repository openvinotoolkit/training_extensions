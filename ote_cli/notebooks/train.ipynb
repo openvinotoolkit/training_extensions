{
 "cells": [
  {
   "cell_type": "markdown",
   "id": "704d18ea",
   "metadata": {},
   "source": [
    "# Object Detection"
   ]
  },
  {
   "cell_type": "markdown",
   "id": "d5c84b69",
   "metadata": {},
   "source": [
    "## Import everything"
   ]
  },
  {
   "cell_type": "code",
   "execution_count": null,
   "id": "4063b1bc",
   "metadata": {
    "scrolled": true
   },
   "outputs": [],
   "source": [
    "import os\n",
    "import sys\n",
    "\n",
    "import cv2\n",
    "import numpy as np\n",
    "\n",
    "from ote_sdk.configuration.helper import create as create_parameters_from_parameters_schema\n",
    "from ote_sdk.entities.inference_parameters import InferenceParameters\n",
    "from ote_sdk.entities.label_schema import LabelSchemaEntity\n",
    "from ote_sdk.entities.model import ModelEntity, ModelOptimizationType, ModelPrecision, ModelStatus\n",
    "from ote_sdk.entities.model_template import parse_model_template, TargetDevice\n",
    "from ote_sdk.entities.resultset import ResultSetEntity\n",
    "from ote_sdk.entities.subset import Subset\n",
    "from ote_sdk.entities.task_environment import TaskEnvironment\n",
    "from ote_sdk.usecases.tasks.interfaces.export_interface import ExportType\n",
    "\n",
    "from ote_cli.datasets import get_dataset_class\n",
    "from ote_cli.registry import Registry\n",
    "from ote_cli.utils.labels import generate_label_schema\n",
    "from ote_cli.utils.importing import get_impl_class"
   ]
  },
  {
   "cell_type": "markdown",
   "id": "55a62722",
   "metadata": {},
   "source": [
    "## Register templates"
   ]
  },
  {
   "cell_type": "code",
   "execution_count": null,
   "id": "1e8e911f",
   "metadata": {
    "scrolled": true
   },
   "outputs": [],
   "source": [
    "templates_dir = '../../external'\n",
    "registry = Registry(templates_dir)\n",
    "registry = registry.filter(task_type=sys.executable.split(os.sep)[-4])\n",
    "print(registry)"
   ]
  },
  {
   "cell_type": "markdown",
   "id": "09eb821b",
   "metadata": {},
   "source": [
    "## Load model template and its hyper parameters"
   ]
  },
  {
   "cell_type": "code",
   "execution_count": null,
   "id": "a37c6c12",
   "metadata": {
    "scrolled": true
   },
   "outputs": [],
   "source": [
    "model_template_info = registry.get('Custom_Object_Detection_256x256')\n",
    "model_template = parse_model_template(model_template_info['path'])\n",
    "hyper_parameters = model_template.hyper_parameters.data"
   ]
  },
  {
   "cell_type": "markdown",
   "id": "a8e5509d",
   "metadata": {},
   "source": [
    "## Get dataset instantiated"
   ]
  },
  {
   "cell_type": "code",
   "execution_count": null,
   "id": "44f1e990",
   "metadata": {
    "scrolled": false
   },
   "outputs": [],
   "source": [
    "Dataset = get_dataset_class(model_template.task_type)\n",
    "\n",
    "dataset_paths = {\n",
    "    'train_ann_file' : '../../data/airport/annotation_faces_train.json',\n",
    "    'train_data_root' : '../../data/airport/',\n",
    "    'val_ann_file' : '../../data/airport/annotation_faces_train.json',\n",
    "    'val_data_root' : '../../data/airport/',\n",
    "}\n",
    "\n",
    "dataset = Dataset(**dataset_paths)\n",
    "labels_schema = LabelSchemaEntity.from_labels(dataset.get_labels())"
   ]
  },
  {
   "cell_type": "markdown",
   "id": "8b17db84",
   "metadata": {},
   "source": [
    "## Have a look at existing parameters"
   ]
  },
  {
   "cell_type": "code",
   "execution_count": null,
   "id": "05c3dbd3",
   "metadata": {
    "scrolled": true
   },
   "outputs": [],
   "source": [
    "hyper_parameters = create_parameters_from_parameters_schema(hyper_parameters)\n",
    "\n",
    "for p in hyper_parameters.learning_parameters.parameters:\n",
    "    print(f'{p}: {getattr(hyper_parameters.learning_parameters, p)}')"
   ]
  },
  {
   "cell_type": "markdown",
   "id": "e41a1a46",
   "metadata": {},
   "source": [
    "## Tweak parameters"
   ]
  },
  {
   "cell_type": "code",
   "execution_count": null,
   "id": "36aa01c3",
   "metadata": {},
   "outputs": [],
   "source": [
    "hyper_parameters.learning_parameters.batch_size = 16\n",
    "hyper_parameters.learning_parameters.num_iters = 150\n",
    "\n",
    "for p in hyper_parameters.learning_parameters.parameters:\n",
    "    print(f'{p}: {getattr(hyper_parameters.learning_parameters, p)}')"
   ]
  },
  {
   "cell_type": "markdown",
   "id": "a77b0943",
   "metadata": {},
   "source": [
    "## Create Task "
   ]
  },
  {
   "cell_type": "code",
   "execution_count": null,
   "id": "688f76cb",
   "metadata": {},
   "outputs": [],
   "source": [
    "Task = get_impl_class(model_template.entrypoints.base)\n",
    "\n",
    "environment = TaskEnvironment(\n",
    "    model=None,\n",
    "    hyper_parameters=hyper_parameters,\n",
    "    label_schema=labels_schema,\n",
    "    model_template=model_template)\n",
    "        \n",
    "task = Task(task_environment=environment)"
   ]
  },
  {
   "cell_type": "markdown",
   "id": "60fb9ee4",
   "metadata": {},
   "source": [
    "## Run training"
   ]
  },
  {
   "cell_type": "code",
   "execution_count": null,
   "id": "5dcfb0af",
   "metadata": {
    "scrolled": true
   },
   "outputs": [],
   "source": [
    "output_model = ModelEntity(\n",
    "    dataset,\n",
    "    environment.get_model_configuration(),\n",
    "    model_status=ModelStatus.NOT_READY)\n",
    "\n",
    "task.train(dataset, output_model)"
   ]
  },
  {
   "cell_type": "markdown",
   "id": "67e0777f",
   "metadata": {},
   "source": [
    "## Evaluate quality metric"
   ]
  },
  {
   "cell_type": "code",
   "execution_count": null,
   "id": "9a759307",
   "metadata": {
    "scrolled": true
   },
   "outputs": [],
   "source": [
    "validation_dataset = dataset.get_subset(Subset.VALIDATION)\n",
    "predicted_validation_dataset = task.infer(\n",
    "    validation_dataset.with_empty_annotations(),\n",
    "    InferenceParameters(is_evaluation=True))\n",
    "\n",
    "resultset = ResultSetEntity(\n",
    "    model=output_model,\n",
    "    ground_truth_dataset=validation_dataset,\n",
    "    prediction_dataset=predicted_validation_dataset,\n",
    ")\n",
    "task.evaluate(resultset)\n",
    "print(resultset.performance)\n"
   ]
  },
  {
   "cell_type": "markdown",
   "id": "ebd847b4",
   "metadata": {},
   "source": [
    "## Export model to OpenVINO format"
   ]
  },
  {
   "cell_type": "code",
   "execution_count": null,
   "id": "45b43fa4",
   "metadata": {
    "scrolled": true
   },
   "outputs": [],
   "source": [
    "exported_model = ModelEntity(\n",
    "    dataset,\n",
    "    environment.get_model_configuration(),\n",
    "    optimization_type=ModelOptimizationType.MO,\n",
    "    precision=[ModelPrecision.FP16],\n",
    "    optimization_methods=[],\n",
    "    optimization_objectives={},\n",
    "    target_device=TargetDevice.UNSPECIFIED,\n",
    "    performance_improvement={},\n",
    "    model_size_reduction=1.,\n",
    "    model_status=ModelStatus.NOT_READY)\n",
    "task.export(ExportType.OPENVINO, exported_model)"
   ]
  },
  {
   "cell_type": "markdown",
   "id": "771842c8",
   "metadata": {},
   "source": [
    "## Evaluate the exported model"
   ]
  },
  {
   "cell_type": "code",
   "execution_count": null,
   "id": "e03bfcb1",
   "metadata": {
    "scrolled": true
   },
   "outputs": [],
   "source": [
    "environment.model = exported_model\n",
    "ov_task = get_impl_class(model_template.entrypoints.openvino)(environment)\n",
    "predicted_validation_dataset = ov_task.infer(\n",
    "    validation_dataset.with_empty_annotations(),\n",
    "    InferenceParameters(is_evaluation=True))\n",
    "resultset = ResultSetEntity(\n",
    "    model=output_model,\n",
    "    ground_truth_dataset=validation_dataset,\n",
    "    prediction_dataset=predicted_validation_dataset,\n",
    ")\n",
    "ov_task.evaluate(resultset)\n",
    "print(resultset.performance)"
   ]
  },
  {
   "cell_type": "markdown",
   "id": "2df01cfe",
   "metadata": {},
   "source": [
    "## Draw bounding boxes"
   ]
  },
  {
   "cell_type": "code",
   "execution_count": null,
   "id": "957a98a8",
   "metadata": {
    "scrolled": false
   },
   "outputs": [],
   "source": [
    "import IPython\n",
    "import PIL\n",
    "\n",
    "for predictions, item in zip(predicted_validation_dataset, validation_dataset.with_empty_annotations()):\n",
    "    image = item.numpy.astype(np.uint8)\n",
    "    for box in predictions.annotation_scene.shapes:\n",
    "        x1 = int(box.x1 * image.shape[1])\n",
    "        x2 = int(box.x2 * image.shape[1])\n",
    "        y1 = int(box.y1 * image.shape[0])\n",
    "        y2 = int(box.y2 * image.shape[0])\n",
    "        cv2.rectangle(image, (x1, y1), (x2, y2), (0, 0, 255), 3)  \n",
    "    IPython.display.display(PIL.Image.fromarray(image))"
   ]
  }
 ],
 "metadata": {
  "kernelspec": {
   "display_name": "Python 3 (ipykernel)",
   "language": "python",
   "name": "python3"
  },
  "language_info": {
   "codemirror_mode": {
    "name": "ipython",
    "version": 3
   },
   "file_extension": ".py",
   "mimetype": "text/x-python",
   "name": "python",
   "nbconvert_exporter": "python",
   "pygments_lexer": "ipython3",
   "version": "3.8.10"
  }
 },
 "nbformat": 4,
 "nbformat_minor": 5
}
