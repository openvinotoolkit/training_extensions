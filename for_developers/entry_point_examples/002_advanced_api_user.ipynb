{
 "cells": [
  {
   "cell_type": "markdown",
   "metadata": {},
   "source": [
    "# OTX API Usage for Advanced-API User\n",
    "\n",
    "### Requirements\n",
    "R3. Advanced-level Python API users provide a Dataset, and a model type (str) as input, and OTX provides a workflow.\n"
   ]
  },
  {
   "cell_type": "code",
   "execution_count": 1,
   "metadata": {},
   "outputs": [],
   "source": [
    "data_root = \"../../tests/assets/classification_dataset\""
   ]
  },
  {
   "cell_type": "code",
   "execution_count": 2,
   "metadata": {},
   "outputs": [
    {
     "name": "stderr",
     "output_type": "stream",
     "text": [
      "/home/harimkan/workspace/repo/otx-fork/venv/lib/python3.10/site-packages/tqdm/auto.py:21: TqdmWarning: IProgress not found. Please update jupyter and ipywidgets. See https://ipywidgets.readthedocs.io/en/stable/user_install.html\n",
      "  from .autonotebook import tqdm as notebook_tqdm\n",
      "WARNING:root:Replace num_classes with 2\n",
      "WARNING:root:Set Default Model: {'class_path': 'otx.core.model.entity.classification.MMPretrainMulticlassClsModel', 'init_args': {'config': {'backbone': {'version': 'b0', 'pretrained': True, 'type': 'OTXEfficientNet'}, 'head': {'in_channels': 1280, 'loss': {'loss_weight': 1.0, 'type': 'CrossEntropyLoss'}, 'num_classes': 2, 'topk': [1, 5], 'type': 'LinearClsHead'}, 'neck': {'type': 'GlobalAveragePooling'}, 'data_preprocessor': {'mean': [123.675, 116.28, 103.53], 'std': [58.395, 57.12, 57.375], 'to_rgb': False, 'type': 'ClsDataPreprocessor'}, 'type': 'ImageClassifier'}}}\n",
      "WARNING:root:Set Default Optimizer: {'class_path': 'torch.optim.SGD', 'init_args': {'lr': 0.001, 'momentum': 0.9, 'weight_decay': 0.0001}}\n",
      "WARNING:root:Set Default Scheduler: {'class_path': 'lightning.pytorch.cli.ReduceLROnPlateau', 'init_args': {'mode': 'min', 'factor': 0.5, 'patience': 1, 'monitor': 'train/loss'}}\n"
     ]
    },
    {
     "name": "stdout",
     "output_type": "stream",
     "text": [
      "init weight - https://github.com/osmr/imgclsmob/releases/download/v0.0.364/efficientnet_b0-0752-0e386130.pth.zip\n"
     ]
    }
   ],
   "source": [
    "from otx.engine import Engine\n",
    "\n",
    "engine = Engine(\n",
    "    data_root=data_root,\n",
    "    task=\"MULTI_CLASS_CLS\",\n",
    "    model=\"efficientnet_b0_light\",\n",
    ")"
   ]
  },
  {
   "cell_type": "code",
   "execution_count": 3,
   "metadata": {},
   "outputs": [
    {
     "name": "stderr",
     "output_type": "stream",
     "text": [
      "GPU available: True (cuda), used: True\n",
      "TPU available: False, using: 0 TPU cores\n",
      "IPU available: False, using: 0 IPUs\n",
      "HPU available: False, using: 0 HPUs\n",
      "`Trainer(val_check_interval=1)` was configured so validation will run after every batch.\n",
      "You are using a CUDA device ('NVIDIA GeForce RTX 3090') that has Tensor Cores. To properly utilize them, you should set `torch.set_float32_matmul_precision('medium' | 'high')` which will trade-off precision for performance. For more details, read https://pytorch.org/docs/stable/generated/torch.set_float32_matmul_precision.html#torch.set_float32_matmul_precision\n",
      "LOCAL_RANK: 0 - CUDA_VISIBLE_DEVICES: [0,1]\n",
      "\n",
      "  | Name        | Type                         | Params\n",
      "-------------------------------------------------------------\n",
      "0 | model       | MMPretrainMulticlassClsModel | 4.0 M \n",
      "1 | val_metric  | MulticlassAccuracy           | 0     \n",
      "2 | test_metric | MulticlassAccuracy           | 0     \n",
      "-------------------------------------------------------------\n",
      "4.0 M     Trainable params\n",
      "0         Non-trainable params\n",
      "4.0 M     Total params\n",
      "16.040    Total estimated model params size (MB)\n"
     ]
    },
    {
     "name": "stdout",
     "output_type": "stream",
     "text": [
      "                                                                           \r"
     ]
    },
    {
     "name": "stderr",
     "output_type": "stream",
     "text": [
      "/home/harimkan/workspace/repo/otx-fork/venv/lib/python3.10/site-packages/lightning/pytorch/loops/fit_loop.py:293: The number of training batches (1) is smaller than the logging interval Trainer(log_every_n_steps=50). Set a lower value for log_every_n_steps if you want to see logs for the training epoch.\n"
     ]
    },
    {
     "name": "stdout",
     "output_type": "stream",
     "text": [
      "Epoch 9: 100%|██████████| 1/1 [00:00<00:00, 10.71it/s, v_num=9, train/loss=0.322, val/accuracy=1.000]"
     ]
    },
    {
     "name": "stderr",
     "output_type": "stream",
     "text": [
      "`Trainer.fit` stopped: `max_epochs=10` reached.\n"
     ]
    },
    {
     "name": "stdout",
     "output_type": "stream",
     "text": [
      "Epoch 9: 100%|██████████| 1/1 [00:00<00:00,  7.02it/s, v_num=9, train/loss=0.322, val/accuracy=1.000]\n"
     ]
    },
    {
     "data": {
      "text/plain": [
       "{'train/loss': tensor(0.3222), 'val/accuracy': tensor(1.)}"
      ]
     },
     "execution_count": 3,
     "metadata": {},
     "output_type": "execute_result"
    }
   ],
   "source": [
    "engine.train()"
   ]
  },
  {
   "cell_type": "markdown",
   "metadata": {},
   "source": [
    "\n",
    "R4. Advanced-level Python API users provide a Dataset, and Model (nn.Module) as input, and OTX provides the workflow."
   ]
  },
  {
   "cell_type": "code",
   "execution_count": 4,
   "metadata": {},
   "outputs": [],
   "source": [
    "import torch\n",
    "from torch import nn\n",
    "from torchvision.models.resnet import ResNet50_Weights, resnet50\n",
    "\n",
    "\n",
    "class ResNet50WithLossComputation(nn.Module):\n",
    "    def __init__(self, num_classes: int) -> None:\n",
    "        super().__init__()\n",
    "        self.num_classes = num_classes\n",
    "        net = resnet50(weights=ResNet50_Weights.IMAGENET1K_V2)\n",
    "        net.fc = nn.Linear(\n",
    "            in_features=net.fc.in_features, out_features=self.num_classes,\n",
    "        )\n",
    "        self.net = net\n",
    "        self.softmax = nn.Softmax(dim=-1)\n",
    "        self.criterion = nn.CrossEntropyLoss()\n",
    "\n",
    "    def forward(self, images: torch.Tensor, labels: torch.Tensor) -> torch.Tensor:\n",
    "        logits = self.net(images)\n",
    "\n",
    "        if self.training:\n",
    "            return self.criterion(logits, labels)\n",
    "\n",
    "        return self.softmax(logits)\n"
   ]
  },
  {
   "cell_type": "code",
   "execution_count": 5,
   "metadata": {},
   "outputs": [],
   "source": [
    "from typing import Any\n",
    "\n",
    "import torch\n",
    "from otx.core.data.entity.base import OTXBatchLossEntity\n",
    "from otx.core.data.entity.classification import (\n",
    "    MulticlassClsBatchDataEntity,\n",
    "    MulticlassClsBatchPredEntity,\n",
    ")\n",
    "from otx.core.model.entity.classification import OTXMulticlassClsModel\n",
    "from torch import nn\n",
    "\n",
    "\n",
    "class OTXResNet50(OTXMulticlassClsModel):\n",
    "    def __init__(self, num_classes: int) -> None:\n",
    "        self.num_classes = num_classes\n",
    "        super().__init__()\n",
    "        self.register_buffer(\n",
    "            \"mean\",\n",
    "            torch.FloatTensor([123.675, 116.28, 103.53]).view(-1, 1, 1),\n",
    "            False,\n",
    "        )\n",
    "        self.register_buffer(\n",
    "            \"std\",\n",
    "            torch.FloatTensor([58.395, 57.12, 57.375]).view(-1, 1, 1),\n",
    "            False,\n",
    "        )\n",
    "\n",
    "    def _create_model(self) -> nn.Module:\n",
    "        # ResNet50_Weights.IMAGENET1K_V2 is a really powerful pretrained model equipped with the modern training scheme:\n",
    "        # ImageNet-1K acc@1: 80.858, acc@5\": 95.434.\n",
    "        return ResNet50WithLossComputation(num_classes=self.num_classes)\n",
    "\n",
    "    def _customize_inputs(self, inputs: MulticlassClsBatchDataEntity) -> dict[str, Any]:\n",
    "        images = torch.stack((*inputs.images,), dim=0).to(dtype=torch.float32)\n",
    "        images = (images - self.mean) / self.std\n",
    "        return {\n",
    "            \"images\": images,\n",
    "            \"labels\": torch.cat(inputs.labels, dim=0),\n",
    "        }\n",
    "\n",
    "    def _customize_outputs(\n",
    "        self, outputs: Any, inputs: MulticlassClsBatchDataEntity\n",
    "    ) -> MulticlassClsBatchPredEntity | OTXBatchLossEntity:\n",
    "        if self.training:\n",
    "            return {\"loss\": outputs}\n",
    "\n",
    "        # To list, batch-wise\n",
    "        scores = torch.unbind(outputs, 0)\n",
    "\n",
    "        return MulticlassClsBatchPredEntity(\n",
    "            batch_size=inputs.batch_size,\n",
    "            images=inputs.images,\n",
    "            imgs_info=inputs.imgs_info,\n",
    "            scores=scores,\n",
    "            labels=inputs.labels,\n",
    "        )"
   ]
  },
  {
   "cell_type": "code",
   "execution_count": 6,
   "metadata": {},
   "outputs": [
    {
     "name": "stderr",
     "output_type": "stream",
     "text": [
      "WARNING:root:Set Default Optimizer: {'class_path': 'torch.optim.SGD', 'init_args': {'lr': 0.001, 'momentum': 0.9, 'weight_decay': 0.0001}}\n",
      "WARNING:root:Set Default Scheduler: {'class_path': 'lightning.pytorch.cli.ReduceLROnPlateau', 'init_args': {'mode': 'min', 'factor': 0.5, 'patience': 1, 'monitor': 'train/loss'}}\n"
     ]
    }
   ],
   "source": [
    "from otx.engine import Engine\n",
    "\n",
    "engine = Engine(\n",
    "    data_root=data_root,\n",
    "    work_dir=\"./otx-workspace\",\n",
    "    device=\"gpu\",\n",
    "    model=OTXResNet50(num_classes=2),\n",
    ")"
   ]
  },
  {
   "cell_type": "code",
   "execution_count": 7,
   "metadata": {},
   "outputs": [
    {
     "name": "stderr",
     "output_type": "stream",
     "text": [
      "GPU available: True (cuda), used: True\n",
      "TPU available: False, using: 0 TPU cores\n",
      "IPU available: False, using: 0 IPUs\n",
      "HPU available: False, using: 0 HPUs\n",
      "`Trainer(val_check_interval=1)` was configured so validation will run after every batch.\n",
      "LOCAL_RANK: 0 - CUDA_VISIBLE_DEVICES: [0,1]\n",
      "\n",
      "  | Name        | Type               | Params\n",
      "---------------------------------------------------\n",
      "0 | model       | OTXResNet50        | 23.5 M\n",
      "1 | val_metric  | MulticlassAccuracy | 0     \n",
      "2 | test_metric | MulticlassAccuracy | 0     \n",
      "---------------------------------------------------\n",
      "23.5 M    Trainable params\n",
      "0         Non-trainable params\n",
      "23.5 M    Total params\n",
      "94.049    Total estimated model params size (MB)\n"
     ]
    },
    {
     "name": "stdout",
     "output_type": "stream",
     "text": [
      "Epoch 2: 100%|██████████| 1/1 [00:00<00:00,  8.74it/s, v_num=10, train/loss=0.698, val/accuracy=1.000]"
     ]
    },
    {
     "name": "stderr",
     "output_type": "stream",
     "text": [
      "`Trainer.fit` stopped: `max_epochs=3` reached.\n"
     ]
    },
    {
     "name": "stdout",
     "output_type": "stream",
     "text": [
      "Epoch 2: 100%|██████████| 1/1 [00:00<00:00,  2.91it/s, v_num=10, train/loss=0.698, val/accuracy=1.000]\n"
     ]
    },
    {
     "data": {
      "text/plain": [
       "{'train/loss': tensor(0.6983), 'val/accuracy': tensor(1.)}"
      ]
     },
     "execution_count": 7,
     "metadata": {},
     "output_type": "execute_result"
    }
   ],
   "source": [
    "engine.train(max_epochs=3)"
   ]
  },
  {
   "cell_type": "markdown",
   "metadata": {},
   "source": [
    "User provide optimizer & scheduler"
   ]
  },
  {
   "cell_type": "code",
   "execution_count": 8,
   "metadata": {},
   "outputs": [],
   "source": [
    "from functools import partial\n",
    "\n",
    "from otx.engine import Engine\n",
    "from torch.optim.adam import Adam\n",
    "from torch.optim.lr_scheduler import CosineAnnealingLR\n",
    "\n",
    "engine = Engine(\n",
    "    data_root=data_root,\n",
    "    work_dir=\"./otx-workspace\",\n",
    "    device=\"gpu\",\n",
    "    model=OTXResNet50(num_classes=2),\n",
    "    optimizer=partial(Adam, lr=1e-4),\n",
    "    scheduler=partial(CosineAnnealingLR, T_max=10),\n",
    ")"
   ]
  },
  {
   "cell_type": "markdown",
   "metadata": {},
   "source": [
    "R5. Advanced-level Python API users can use custom training using all the trainer parameters available in lightning."
   ]
  },
  {
   "cell_type": "code",
   "execution_count": 9,
   "metadata": {},
   "outputs": [
    {
     "name": "stderr",
     "output_type": "stream",
     "text": [
      "/home/harimkan/workspace/repo/otx-fork/venv/lib/python3.10/site-packages/lightning/fabric/connector.py:565: `precision=16` is supported for historical reasons but its usage is discouraged. Please set your precision to 16-mixed instead!\n",
      "Using 16bit Automatic Mixed Precision (AMP)\n",
      "GPU available: True (cuda), used: True\n",
      "TPU available: False, using: 0 TPU cores\n",
      "IPU available: False, using: 0 IPUs\n",
      "HPU available: False, using: 0 HPUs\n",
      "`Trainer(val_check_interval=1)` was configured so validation will run after every batch.\n",
      "LOCAL_RANK: 0 - CUDA_VISIBLE_DEVICES: [0,1]\n",
      "\n",
      "  | Name        | Type               | Params\n",
      "---------------------------------------------------\n",
      "0 | model       | OTXResNet50        | 23.5 M\n",
      "1 | val_metric  | MulticlassAccuracy | 0     \n",
      "2 | test_metric | MulticlassAccuracy | 0     \n",
      "---------------------------------------------------\n",
      "23.5 M    Trainable params\n",
      "0         Non-trainable params\n",
      "23.5 M    Total params\n",
      "94.049    Total estimated model params size (MB)\n"
     ]
    },
    {
     "name": "stdout",
     "output_type": "stream",
     "text": [
      "                                                                           \r"
     ]
    },
    {
     "name": "stderr",
     "output_type": "stream",
     "text": [
      "/home/harimkan/workspace/repo/otx-fork/venv/lib/python3.10/site-packages/lightning/pytorch/loops/fit_loop.py:293: The number of training batches (1) is smaller than the logging interval Trainer(log_every_n_steps=50). Set a lower value for log_every_n_steps if you want to see logs for the training epoch.\n"
     ]
    },
    {
     "name": "stdout",
     "output_type": "stream",
     "text": [
      "Epoch 0: 100%|██████████| 1/1 [00:00<00:00,  8.26it/s, v_num=11, train/loss=0.708]"
     ]
    },
    {
     "name": "stderr",
     "output_type": "stream",
     "text": [
      "/home/harimkan/workspace/repo/otx-fork/venv/lib/python3.10/site-packages/torch/optim/lr_scheduler.py:136: UserWarning: Detected call of `lr_scheduler.step()` before `optimizer.step()`. In PyTorch 1.1.0 and later, you should call them in the opposite order: `optimizer.step()` before `lr_scheduler.step()`.  Failure to do this will result in PyTorch skipping the first value of the learning rate schedule. See more details at https://pytorch.org/docs/stable/optim.html#how-to-adjust-learning-rate\n",
      "  warnings.warn(\"Detected call of `lr_scheduler.step()` before `optimizer.step()`. \"\n"
     ]
    },
    {
     "name": "stdout",
     "output_type": "stream",
     "text": [
      "Epoch 2: 100%|██████████| 1/1 [00:00<00:00, 11.50it/s, v_num=11, train/loss=0.716, val/accuracy=1.000]"
     ]
    },
    {
     "name": "stderr",
     "output_type": "stream",
     "text": [
      "`Trainer.fit` stopped: `max_epochs=3` reached.\n"
     ]
    },
    {
     "name": "stdout",
     "output_type": "stream",
     "text": [
      "Epoch 2: 100%|██████████| 1/1 [00:00<00:00,  4.80it/s, v_num=11, train/loss=0.716, val/accuracy=1.000]\n"
     ]
    },
    {
     "data": {
      "text/plain": [
       "{'train/loss': tensor(0.7165), 'val/accuracy': tensor(1.)}"
      ]
     },
     "execution_count": 9,
     "metadata": {},
     "output_type": "execute_result"
    }
   ],
   "source": [
    "engine.train(\n",
    "    max_epochs=3,\n",
    "    precision=\"16\",\n",
    ")"
   ]
  }
 ],
 "metadata": {
  "kernelspec": {
   "display_name": "venv",
   "language": "python",
   "name": "python3"
  },
  "language_info": {
   "codemirror_mode": {
    "name": "ipython",
    "version": 3
   },
   "file_extension": ".py",
   "mimetype": "text/x-python",
   "name": "python",
   "nbconvert_exporter": "python",
   "pygments_lexer": "ipython3",
   "version": "3.10.13"
  }
 },
 "nbformat": 4,
 "nbformat_minor": 2
}
